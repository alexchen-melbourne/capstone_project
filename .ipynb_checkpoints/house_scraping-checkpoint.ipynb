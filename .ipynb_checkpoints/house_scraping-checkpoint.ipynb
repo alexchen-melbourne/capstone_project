{
 "cells": [
  {
   "cell_type": "code",
   "execution_count": 20,
   "metadata": {
    "collapsed": true
   },
   "outputs": [],
   "source": [
    "from bs4 import BeautifulSoup as Soup\n",
    "import requests"
   ]
  },
  {
   "cell_type": "code",
   "execution_count": 68,
   "metadata": {
    "collapsed": true
   },
   "outputs": [],
   "source": [
    "def scrape_one_page(url):\n",
    "    result = {}\n",
    "    with requests.Session() as session:\n",
    "        response = session.post(url, data={'start':0})\n",
    "        soup = Soup(response.content, 'lxml')\n",
    "        \n",
    "        # left wrap\n",
    "        left = soup.find('div', class_='left-wrap')\n",
    "        \n",
    "        date = left.find('span', class_='status-label label-sold').text\n",
    "        address = left.find('h1').text\n",
    "        price = left.find('span', class_='h4 pricedisplay truncate-single').text.strip()\n",
    "        \n",
    "        # right wrap\n",
    "        right = soup.find('div', class_='listing-features alt')\n",
    "        print right.text.strip()\n",
    "        \n",
    "        print 'date: ', date\n",
    "        print 'address: ', address\n",
    "        print 'price: ', price\n",
    "        \n",
    "    return result"
   ]
  },
  {
   "cell_type": "code",
   "execution_count": 69,
   "metadata": {},
   "outputs": [
    {
     "name": "stdout",
     "output_type": "stream",
     "text": [
      "4                     Beds\r\n",
      "                \n",
      "\n",
      "\n",
      "\n",
      "\n",
      "\r\n",
      "2                 Baths\r\n",
      "            \n",
      "\n",
      "\n",
      "\n",
      "\n",
      "\r\n",
      "2                 Parking\n",
      "date:  Sold at auction 23 September 2017\n",
      "address:  13 Penrith Crescent, Bundoora VIC 3083\n",
      "price:  $750,000\n",
      "{}\n"
     ]
    }
   ],
   "source": [
    "url = 'https://www.domain.com.au/13-penrith-crescent-bundoora-vic-3083-2013819864'\n",
    "print scrape_one_page(url)"
   ]
  },
  {
   "cell_type": "code",
   "execution_count": null,
   "metadata": {
    "collapsed": true
   },
   "outputs": [],
   "source": []
  }
 ],
 "metadata": {
  "anaconda-cloud": {},
  "kernelspec": {
   "display_name": "Python [conda root]",
   "language": "python",
   "name": "conda-root-py"
  },
  "language_info": {
   "codemirror_mode": {
    "name": "ipython",
    "version": 2
   },
   "file_extension": ".py",
   "mimetype": "text/x-python",
   "name": "python",
   "nbconvert_exporter": "python",
   "pygments_lexer": "ipython2",
   "version": "2.7.13"
  },
  "toc": {
   "nav_menu": {},
   "number_sections": true,
   "sideBar": true,
   "skip_h1_title": false,
   "toc_cell": false,
   "toc_position": {},
   "toc_section_display": "block",
   "toc_window_display": false
  }
 },
 "nbformat": 4,
 "nbformat_minor": 2
}
