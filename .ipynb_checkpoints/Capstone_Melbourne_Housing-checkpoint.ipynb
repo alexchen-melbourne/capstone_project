{
 "cells": [
  {
   "cell_type": "markdown",
   "metadata": {},
   "source": [
    "Load moduls"
   ]
  },
  {
   "cell_type": "code",
   "execution_count": 3,
   "metadata": {
    "ExecuteTime": {
     "end_time": "2017-09-14T23:41:30.054915Z",
     "start_time": "2017-09-14T23:41:30.038981Z"
    },
    "collapsed": true
   },
   "outputs": [],
   "source": [
    "from math import sin, cos, sqrt, atan2, radians\n",
    "import re, string\n",
    "import numpy as np\n",
    "import scipy.stats as stats\n",
    "import pandas as pd\n",
    "\n",
    "import matplotlib.pyplot as plt\n",
    "import seaborn as sns\n",
    "sns.set_style('whitegrid')\n",
    "\n",
    "import warnings; warnings.filterwarnings('ignore')\n",
    "%matplotlib inline\n",
    "%config InlineBackend.figure_format ='retina'"
   ]
  },
  {
   "cell_type": "markdown",
   "metadata": {},
   "source": [
    "# House Data Cleaning"
   ]
  },
  {
   "cell_type": "code",
   "execution_count": 4,
   "metadata": {
    "ExecuteTime": {
     "end_time": "2017-09-14T23:43:44.907058Z",
     "start_time": "2017-09-14T23:43:44.391292Z"
    },
    "collapsed": true
   },
   "outputs": [],
   "source": [
    "df = pd.read_csv('data/houses.csv')"
   ]
  },
  {
   "cell_type": "code",
   "execution_count": 5,
   "metadata": {
    "ExecuteTime": {
     "end_time": "2017-09-14T23:46:58.958399Z",
     "start_time": "2017-09-14T23:46:58.524989Z"
    },
    "collapsed": true
   },
   "outputs": [],
   "source": [
    "df = df[~df.location.isnull()]\n",
    "def calcdist(value):\n",
    "    \n",
    "    slt = value.split('\\'')\n",
    "\n",
    "    lat1 = radians(-37.810817)\n",
    "    lon1 = radians(144.963135)\n",
    "    lat2 = radians(float(slt[1]))\n",
    "    lon2 = radians(float(slt[3]))\n",
    "\n",
    "    dlon = lon2 - lon1\n",
    "    dlat = lat2 - lat1\n",
    "\n",
    "    a = sin(dlat / 2)**2 + cos(lat1) * cos(lat2) * sin(dlon / 2)**2\n",
    "    c = 2 * atan2(sqrt(a), sqrt(1 - a))\n",
    "    \n",
    "    R = 6373.0\n",
    "    distance = R * c\n",
    "\n",
    "    return distance\n",
    "\n",
    "df['dist2cbd'] = df.location.map(calcdist)"
   ]
  },
  {
   "cell_type": "code",
   "execution_count": 6,
   "metadata": {
    "ExecuteTime": {
     "end_time": "2017-09-15T01:04:29.196623Z",
     "start_time": "2017-09-15T01:04:29.115224Z"
    },
    "collapsed": true
   },
   "outputs": [],
   "source": [
    "df.suburb = df.suburb.str.lower()"
   ]
  },
  {
   "cell_type": "code",
   "execution_count": 7,
   "metadata": {
    "ExecuteTime": {
     "end_time": "2017-09-15T01:04:29.486986Z",
     "start_time": "2017-09-15T01:04:29.483251Z"
    }
   },
   "outputs": [
    {
     "data": {
      "text/plain": [
       "(203198, 13)"
      ]
     },
     "execution_count": 7,
     "metadata": {},
     "output_type": "execute_result"
    }
   ],
   "source": [
    "df.shape"
   ]
  },
  {
   "cell_type": "code",
   "execution_count": 8,
   "metadata": {},
   "outputs": [
    {
     "data": {
      "text/plain": [
       "solddate       0\n",
       "price          0\n",
       "address1       0\n",
       "postcode       0\n",
       "latitude       0\n",
       "longitude      0\n",
       "bedrooms       0\n",
       "bathrooms      0\n",
       "carparkings    0\n",
       "agentbrand     0\n",
       "location       0\n",
       "suburb         0\n",
       "dist2cbd       0\n",
       "dtype: int64"
      ]
     },
     "execution_count": 8,
     "metadata": {},
     "output_type": "execute_result"
    }
   ],
   "source": [
    "df.dropna(inplace=True)\n",
    "df.isnull().sum()"
   ]
  },
  {
   "cell_type": "markdown",
   "metadata": {},
   "source": [
    "# EDA"
   ]
  },
  {
   "cell_type": "code",
   "execution_count": 9,
   "metadata": {
    "ExecuteTime": {
     "end_time": "2017-09-15T01:04:39.205651Z",
     "start_time": "2017-09-15T01:04:39.126644Z"
    },
    "collapsed": true
   },
   "outputs": [],
   "source": [
    "choose_sub = ['yarraville', 'newport', 'spotswood', 'kensington',\n",
    "              'ascot vale', 'moonee ponds', 'coburg', 'clifton hill',\n",
    "              'northcote', 'malvern east', 'glen iris', 'elsternwick',\n",
    "              'ormond']\n",
    "\n",
    "def ch(x):\n",
    "    if x in choose_sub:\n",
    "        return True\n",
    "    else:\n",
    "        return False\n",
    "    \n",
    "ch = df[df.suburb.map(ch)]"
   ]
  },
  {
   "cell_type": "code",
   "execution_count": 10,
   "metadata": {
    "ExecuteTime": {
     "end_time": "2017-09-15T01:04:48.065609Z",
     "start_time": "2017-09-15T01:04:48.060755Z"
    }
   },
   "outputs": [
    {
     "data": {
      "text/plain": [
       "array(['yarraville', 'newport', 'spotswood', 'kensington', 'ascot vale',\n",
       "       'moonee ponds', 'coburg', 'clifton hill', 'northcote',\n",
       "       'malvern east', 'glen iris', 'elsternwick', 'ormond'], dtype=object)"
      ]
     },
     "execution_count": 10,
     "metadata": {},
     "output_type": "execute_result"
    }
   ],
   "source": [
    "ch.suburb.unique()"
   ]
  },
  {
   "cell_type": "code",
   "execution_count": 11,
   "metadata": {
    "ExecuteTime": {
     "end_time": "2017-09-15T01:06:55.146700Z",
     "start_time": "2017-09-15T01:06:55.142040Z"
    },
    "collapsed": true
   },
   "outputs": [],
   "source": [
    "c = ch.drop(['postcode', 'latitude', 'longitude', 'location'], axis=1)\n",
    "\n",
    "# pd.to_datetime(c.solddate)\n",
    "def qw(x):\n",
    "    try:\n",
    "        s = x.split('-')\n",
    "        month = s[1]\n",
    "        return True\n",
    "    except:\n",
    "        return False\n",
    "c = c[c.solddate.map(qw)]\n",
    "\n",
    "c.solddate = pd.to_datetime(c.solddate)\n",
    "c.solddate = c.solddate.map(lambda x: x.strftime('%Y-%m'))"
   ]
  },
  {
   "cell_type": "code",
   "execution_count": 12,
   "metadata": {
    "ExecuteTime": {
     "end_time": "2017-09-15T01:41:13.179329Z",
     "start_time": "2017-09-15T01:41:11.778009Z"
    },
    "collapsed": true
   },
   "outputs": [],
   "source": [
    "# c.groupby(by='solddate').count()['price'][56:-1].plot(kind='bar', figsize=(20,10))"
   ]
  },
  {
   "cell_type": "code",
   "execution_count": 13,
   "metadata": {
    "ExecuteTime": {
     "end_time": "2017-09-15T01:45:36.913097Z",
     "start_time": "2017-09-15T01:45:36.908558Z"
    },
    "collapsed": true
   },
   "outputs": [],
   "source": [
    "# outliers \n",
    "c = c[~(c.price > 4000000)]"
   ]
  },
  {
   "cell_type": "code",
   "execution_count": 14,
   "metadata": {
    "ExecuteTime": {
     "end_time": "2017-09-15T01:57:19.173589Z",
     "start_time": "2017-09-15T01:57:18.284652Z"
    }
   },
   "outputs": [
    {
     "data": {
      "text/plain": [
       "<matplotlib.figure.Figure at 0x115dad890>"
      ]
     },
     "metadata": {},
     "output_type": "display_data"
    }
   ],
   "source": [
    "me = c.price.median()\n",
    "ma = c.price.mean()\n",
    "plt.figure(figsize=(18,10))\n",
    "\n",
    "font = {'family': 'serif',\n",
    "        'color':  'darkred',\n",
    "        'weight': 'normal',\n",
    "        'size': 16,\n",
    "        }\n",
    "# plt.text(2500000, 0.00000125, s='Median '+str(me), fontsize=30, fontdict={'color':'red'})\n",
    "# plt.text(2500000, 0.00000105, s='Mean  '+str(round(ma)), fontsize=30, fontdict={'color':'blue'})\n",
    "\n",
    "# plt.plot([me, me], [0, 0.00000165], 'r-', lw=3)\n",
    "# plt.plot([ma, ma], [0, 0.00000165], 'b-', lw=3)\n",
    "# sns.distplot(c.price)"
   ]
  },
  {
   "cell_type": "code",
   "execution_count": 15,
   "metadata": {
    "ExecuteTime": {
     "end_time": "2017-09-15T02:08:46.963623Z",
     "start_time": "2017-09-15T02:08:46.898529Z"
    },
    "collapsed": true
   },
   "outputs": [],
   "source": [
    "# c.groupby(by='agentbrand').count().sort_values(by='price', ascending=False)"
   ]
  },
  {
   "cell_type": "code",
   "execution_count": 16,
   "metadata": {
    "ExecuteTime": {
     "end_time": "2017-09-15T02:16:51.832939Z",
     "start_time": "2017-09-15T02:16:50.939193Z"
    },
    "collapsed": true
   },
   "outputs": [],
   "source": [
    "c.bathrooms = c.bathrooms.astype(int)\n",
    "c.carparkings = c.carparkings.astype(int)\n",
    "corr = c[['bedrooms', 'bathrooms', 'carparkings', 'dist2cbd', 'price']].corr()\n",
    "# sns.heatmap(corr, annot=True)"
   ]
  },
  {
   "cell_type": "markdown",
   "metadata": {
    "collapsed": true
   },
   "source": [
    "# Model"
   ]
  },
  {
   "cell_type": "code",
   "execution_count": 17,
   "metadata": {
    "collapsed": true
   },
   "outputs": [],
   "source": [
    "data = df.copy()\n",
    "data.drop(['latitude', 'longitude', 'location', 'postcode'], axis=1, inplace=True)\n",
    "data.drop(19517, axis=0, inplace=True)"
   ]
  },
  {
   "cell_type": "code",
   "execution_count": 18,
   "metadata": {
    "collapsed": true,
    "scrolled": false
   },
   "outputs": [],
   "source": [
    "def getStreetName(x):\n",
    "    result = ''.join([i for i in x if not i.isdigit()])\n",
    "    result = re.sub(r'[^\\w]', ' ', result)\n",
    "    result = ' '.join([x for x in result.split() if len(x) != 1])\n",
    "    return result.lower()\n",
    "\n",
    "data.address1 = data.address1.map(getStreetName)"
   ]
  },
  {
   "cell_type": "code",
   "execution_count": 19,
   "metadata": {},
   "outputs": [
    {
     "data": {
      "text/html": [
       "<div>\n",
       "<style>\n",
       "    .dataframe thead tr:only-child th {\n",
       "        text-align: right;\n",
       "    }\n",
       "\n",
       "    .dataframe thead th {\n",
       "        text-align: left;\n",
       "    }\n",
       "\n",
       "    .dataframe tbody tr th {\n",
       "        vertical-align: top;\n",
       "    }\n",
       "</style>\n",
       "<table border=\"1\" class=\"dataframe\">\n",
       "  <thead>\n",
       "    <tr style=\"text-align: right;\">\n",
       "      <th></th>\n",
       "      <th>solddate</th>\n",
       "      <th>price</th>\n",
       "      <th>address1</th>\n",
       "      <th>bedrooms</th>\n",
       "      <th>bathrooms</th>\n",
       "      <th>carparkings</th>\n",
       "      <th>agentbrand</th>\n",
       "      <th>suburb</th>\n",
       "      <th>dist2cbd</th>\n",
       "    </tr>\n",
       "  </thead>\n",
       "  <tbody>\n",
       "    <tr>\n",
       "      <th>0</th>\n",
       "      <td>25-Aug-17</td>\n",
       "      <td>380000</td>\n",
       "      <td>katherine place</td>\n",
       "      <td>2.0</td>\n",
       "      <td>1</td>\n",
       "      <td>0</td>\n",
       "      <td>City Residential Real Estate</td>\n",
       "      <td>melbourne</td>\n",
       "      <td>1.201459</td>\n",
       "    </tr>\n",
       "    <tr>\n",
       "      <th>1</th>\n",
       "      <td>28-Aug-17</td>\n",
       "      <td>347000</td>\n",
       "      <td>franklin street</td>\n",
       "      <td>2.0</td>\n",
       "      <td>1</td>\n",
       "      <td>0</td>\n",
       "      <td>Caine Real Estate</td>\n",
       "      <td>melbourne</td>\n",
       "      <td>0.384706</td>\n",
       "    </tr>\n",
       "    <tr>\n",
       "      <th>2</th>\n",
       "      <td>26-Aug-17</td>\n",
       "      <td>458000</td>\n",
       "      <td>beckett street</td>\n",
       "      <td>2.0</td>\n",
       "      <td>1</td>\n",
       "      <td>0</td>\n",
       "      <td>MICM Real Estate</td>\n",
       "      <td>melbourne</td>\n",
       "      <td>0.267443</td>\n",
       "    </tr>\n",
       "    <tr>\n",
       "      <th>3</th>\n",
       "      <td>24-Aug-17</td>\n",
       "      <td>440000</td>\n",
       "      <td>therry street</td>\n",
       "      <td>2.0</td>\n",
       "      <td>1</td>\n",
       "      <td>0</td>\n",
       "      <td>Melcorp Property Pty Ltd</td>\n",
       "      <td>melbourne</td>\n",
       "      <td>0.467489</td>\n",
       "    </tr>\n",
       "    <tr>\n",
       "      <th>4</th>\n",
       "      <td>18-Aug-17</td>\n",
       "      <td>550000</td>\n",
       "      <td>collins street</td>\n",
       "      <td>2.0</td>\n",
       "      <td>2</td>\n",
       "      <td>0</td>\n",
       "      <td>MICM Real Estate</td>\n",
       "      <td>melbourne</td>\n",
       "      <td>1.085536</td>\n",
       "    </tr>\n",
       "  </tbody>\n",
       "</table>\n",
       "</div>"
      ],
      "text/plain": [
       "    solddate   price         address1  bedrooms bathrooms carparkings  \\\n",
       "0  25-Aug-17  380000  katherine place       2.0         1           0   \n",
       "1  28-Aug-17  347000  franklin street       2.0         1           0   \n",
       "2  26-Aug-17  458000   beckett street       2.0         1           0   \n",
       "3  24-Aug-17  440000    therry street       2.0         1           0   \n",
       "4  18-Aug-17  550000   collins street       2.0         2           0   \n",
       "\n",
       "                     agentbrand     suburb  dist2cbd  \n",
       "0  City Residential Real Estate  melbourne  1.201459  \n",
       "1             Caine Real Estate  melbourne  0.384706  \n",
       "2              MICM Real Estate  melbourne  0.267443  \n",
       "3     Melcorp Property Pty Ltd   melbourne  0.467489  \n",
       "4              MICM Real Estate  melbourne  1.085536  "
      ]
     },
     "execution_count": 19,
     "metadata": {},
     "output_type": "execute_result"
    }
   ],
   "source": [
    "data.head()"
   ]
  },
  {
   "cell_type": "code",
   "execution_count": 20,
   "metadata": {
    "collapsed": true
   },
   "outputs": [],
   "source": [
    "suburb = pd.read_csv('data/suburb_region.csv')\n",
    "suburb.columns = ['suburb', 'post', 'region']\n",
    "suburb.suburb = suburb.suburb.str.lower()\n",
    "suburb.suburb = suburb.suburb.str.strip()"
   ]
  },
  {
   "cell_type": "code",
   "execution_count": 21,
   "metadata": {
    "collapsed": true
   },
   "outputs": [],
   "source": [
    "data2 = pd.merge(data, suburb, on='suburb', how='left')\n",
    "data2.drop('post', axis=1, inplace=True)\n",
    "data2.drop_duplicates(inplace=True)\n",
    "data2.dropna(inplace=True)"
   ]
  },
  {
   "cell_type": "code",
   "execution_count": 22,
   "metadata": {},
   "outputs": [
    {
     "data": {
      "text/html": [
       "<div>\n",
       "<style>\n",
       "    .dataframe thead tr:only-child th {\n",
       "        text-align: right;\n",
       "    }\n",
       "\n",
       "    .dataframe thead th {\n",
       "        text-align: left;\n",
       "    }\n",
       "\n",
       "    .dataframe tbody tr th {\n",
       "        vertical-align: top;\n",
       "    }\n",
       "</style>\n",
       "<table border=\"1\" class=\"dataframe\">\n",
       "  <thead>\n",
       "    <tr style=\"text-align: right;\">\n",
       "      <th></th>\n",
       "      <th>solddate</th>\n",
       "      <th>price</th>\n",
       "      <th>address1</th>\n",
       "      <th>bedrooms</th>\n",
       "      <th>bathrooms</th>\n",
       "      <th>carparkings</th>\n",
       "      <th>agentbrand</th>\n",
       "      <th>suburb</th>\n",
       "      <th>dist2cbd</th>\n",
       "      <th>region</th>\n",
       "    </tr>\n",
       "  </thead>\n",
       "  <tbody>\n",
       "    <tr>\n",
       "      <th>0</th>\n",
       "      <td>25-Aug-17</td>\n",
       "      <td>380000</td>\n",
       "      <td>katherine place</td>\n",
       "      <td>2.0</td>\n",
       "      <td>1</td>\n",
       "      <td>0</td>\n",
       "      <td>City Residential Real Estate</td>\n",
       "      <td>melbourne</td>\n",
       "      <td>1.201459</td>\n",
       "      <td>Inner</td>\n",
       "    </tr>\n",
       "    <tr>\n",
       "      <th>3</th>\n",
       "      <td>28-Aug-17</td>\n",
       "      <td>347000</td>\n",
       "      <td>franklin street</td>\n",
       "      <td>2.0</td>\n",
       "      <td>1</td>\n",
       "      <td>0</td>\n",
       "      <td>Caine Real Estate</td>\n",
       "      <td>melbourne</td>\n",
       "      <td>0.384706</td>\n",
       "      <td>Inner</td>\n",
       "    </tr>\n",
       "    <tr>\n",
       "      <th>6</th>\n",
       "      <td>26-Aug-17</td>\n",
       "      <td>458000</td>\n",
       "      <td>beckett street</td>\n",
       "      <td>2.0</td>\n",
       "      <td>1</td>\n",
       "      <td>0</td>\n",
       "      <td>MICM Real Estate</td>\n",
       "      <td>melbourne</td>\n",
       "      <td>0.267443</td>\n",
       "      <td>Inner</td>\n",
       "    </tr>\n",
       "    <tr>\n",
       "      <th>9</th>\n",
       "      <td>24-Aug-17</td>\n",
       "      <td>440000</td>\n",
       "      <td>therry street</td>\n",
       "      <td>2.0</td>\n",
       "      <td>1</td>\n",
       "      <td>0</td>\n",
       "      <td>Melcorp Property Pty Ltd</td>\n",
       "      <td>melbourne</td>\n",
       "      <td>0.467489</td>\n",
       "      <td>Inner</td>\n",
       "    </tr>\n",
       "    <tr>\n",
       "      <th>12</th>\n",
       "      <td>18-Aug-17</td>\n",
       "      <td>550000</td>\n",
       "      <td>collins street</td>\n",
       "      <td>2.0</td>\n",
       "      <td>2</td>\n",
       "      <td>0</td>\n",
       "      <td>MICM Real Estate</td>\n",
       "      <td>melbourne</td>\n",
       "      <td>1.085536</td>\n",
       "      <td>Inner</td>\n",
       "    </tr>\n",
       "  </tbody>\n",
       "</table>\n",
       "</div>"
      ],
      "text/plain": [
       "     solddate   price         address1  bedrooms bathrooms carparkings  \\\n",
       "0   25-Aug-17  380000  katherine place       2.0         1           0   \n",
       "3   28-Aug-17  347000  franklin street       2.0         1           0   \n",
       "6   26-Aug-17  458000   beckett street       2.0         1           0   \n",
       "9   24-Aug-17  440000    therry street       2.0         1           0   \n",
       "12  18-Aug-17  550000   collins street       2.0         2           0   \n",
       "\n",
       "                      agentbrand     suburb  dist2cbd region  \n",
       "0   City Residential Real Estate  melbourne  1.201459  Inner  \n",
       "3              Caine Real Estate  melbourne  0.384706  Inner  \n",
       "6               MICM Real Estate  melbourne  0.267443  Inner  \n",
       "9      Melcorp Property Pty Ltd   melbourne  0.467489  Inner  \n",
       "12              MICM Real Estate  melbourne  1.085536  Inner  "
      ]
     },
     "execution_count": 22,
     "metadata": {},
     "output_type": "execute_result"
    }
   ],
   "source": [
    "data2.head()"
   ]
  },
  {
   "cell_type": "code",
   "execution_count": 24,
   "metadata": {},
   "outputs": [
    {
     "data": {
      "text/plain": [
       "array(['melbourne', 'east melbourne', 'west melbourne', 'southbank',\n",
       "       'south wharf', 'docklands', 'seddon', 'footscray', 'brooklyn',\n",
       "       'kingsville', 'maidstone', 'west footscray', 'yarraville',\n",
       "       'newport', 'south kingsville', 'spotswood', 'williamstown',\n",
       "       'williamstown north', 'lynbrook', 'lyndhurst', 'hampton park',\n",
       "       'cannons creek', 'cranbourne', 'cranbourne north',\n",
       "       'cranbourne west', 'junction village', 'sandhurst', 'skye',\n",
       "       'devon meadows', 'cranbourne east', 'cranbourne south',\n",
       "       'botanic ridge', 'clyde', 'clyde north', 'cardinia', 'tooradin',\n",
       "       'warneet', 'blind bight', 'koo wee rup', 'catani', 'heath hill',\n",
       "       'bayles', 'yannathan', 'lang lang', 'lang lang east', 'nyora',\n",
       "       'altona', 'seaholme', 'braybrook', 'albion', 'sunshine',\n",
       "       'sunshine north', 'sunshine west', 'st albans', 'albanvale',\n",
       "       'kealba', 'kings park', 'ardeer', 'cairnlea', 'caroline springs',\n",
       "       'deer park', 'burnside', 'burnside heights', 'wyndham vale',\n",
       "       'manor lakes', 'altona north', 'williams landing', 'altona meadows',\n",
       "       'laverton', 'seabrook', 'hoppers crossing', 'tarneit', 'truganina',\n",
       "       'werribee', 'werribee south', 'point cook', 'derrimut',\n",
       "       'flemington', 'kensington', 'ascot vale', 'maribyrnong',\n",
       "       'travancore', 'keilor east', 'avondale heights', 'keilor',\n",
       "       'delahey', 'sydenham', 'hillside', 'taylors hill', 'keilor downs',\n",
       "       'taylors lakes', 'keilor lodge', 'moonee ponds', 'aberfeldie',\n",
       "       'essendon', 'essendon west', 'essendon north', 'strathmore',\n",
       "       'strathmore heights', 'airport west', 'keilor park', 'niddrie',\n",
       "       'gladstone park', 'tullamarine', 'gowanbrae', 'pascoe vale',\n",
       "       'pascoe vale south', 'glenroy', 'hadfield', 'oak park',\n",
       "       'broadmeadows', 'jacana', 'dallas', 'coolaroo', 'meadow heights',\n",
       "       'attwood', 'westmeadows', 'north melbourne', 'parkville', 'carlton',\n",
       "       'carlton north', 'princes hill', 'brunswick west', 'brunswick',\n",
       "       'brunswick east', 'coburg', 'coburg north', 'greenvale', 'fawkner',\n",
       "       'campbellfield', 'oaklands junction', 'craigieburn', 'mickleham',\n",
       "       'roxburgh park', 'kalkallo', 'fitzroy', 'collingwood', 'abbotsford',\n",
       "       'clifton hill', 'fitzroy north', 'northcote', 'thornbury',\n",
       "       'preston', 'reservoir', 'thomastown', 'lalor', 'epping',\n",
       "       'alphington', 'fairfield', 'ivanhoe', 'ivanhoe east', 'bellfield',\n",
       "       'heidelberg heights', 'heidelberg west', 'mill park', 'bundoora',\n",
       "       'kingsbury', 'heidelberg', 'rosanna', 'eaglemont', 'viewbank',\n",
       "       'macleod', 'yallambie', 'watsonia', 'watsonia north', 'briar hill',\n",
       "       'greensborough', 'st helena', 'diamond creek', 'plenty',\n",
       "       'yarrambat', 'lower plenty', 'montmorency', 'eltham',\n",
       "       'eltham north', 'research', 'wattle glen', 'bend of islands',\n",
       "       'kangaroo ground', 'hurstbridge', 'strathewen', 'cottles bridge',\n",
       "       'nutfield', 'kew', 'kew east', 'balwyn', 'deepdene', 'balwyn north',\n",
       "       'bulleen', 'templestowe', 'templestowe lower', 'doncaster',\n",
       "       'doncaster east', 'donvale', 'north warrandyte', 'warrandyte',\n",
       "       'park orchards', 'wonga park', 'chirnside park', 'richmond',\n",
       "       'burnley', 'cremorne', 'hawthorn', 'hawthorn east', 'camberwell',\n",
       "       'burwood', 'canterbury', 'mont albert', 'surrey hills', 'box hill',\n",
       "       'box hill south', 'box hill north', 'mont albert north',\n",
       "       'blackburn', 'blackburn north', 'blackburn south', 'forest hill',\n",
       "       'nunawading', 'mitcham', 'vermont', 'vermont south', 'ringwood',\n",
       "       'ringwood north', 'warranwood', 'warrandyte south', 'heathmont',\n",
       "       'ringwood east', 'croydon', 'croydon south', 'croydon north',\n",
       "       'croydon hills', 'kilsyth', 'kilsyth south', 'mooroolbark',\n",
       "       'launching place', 'wandin north', 'woori yallock', 'wandin east',\n",
       "       'don valley', 'seville', 'yellingbo', 'hoddles creek',\n",
       "       'seville east', 'lilydale', 'south yarra', 'toorak', 'armadale',\n",
       "       'malvern', 'kooyong', 'caulfield east', 'malvern east', 'glen iris',\n",
       "       'ashburton', 'ashwood', 'chadstone', 'mount waverley',\n",
       "       'glen waverley', 'wheelers hill', 'burwood east', 'wantirna',\n",
       "       'wantirna south', 'bayswater', 'bayswater north', 'the basin',\n",
       "       'boronia', 'ferntree gully', 'upper ferntree gully', 'lysterfield',\n",
       "       'lysterfield south', 'upwey', 'selby', 'menzies creek', 'belgrave',\n",
       "       'belgrave heights', 'belgrave south', 'tecoma', 'caulfield north',\n",
       "       'caulfield', 'caulfield south', 'carnegie', 'glen huntly',\n",
       "       'murrumbeena', 'bentleigh east', 'hughesdale', 'oakleigh',\n",
       "       'oakleigh east', 'huntingdale', 'oakleigh south', 'clayton',\n",
       "       'notting hill', 'clayton south', 'clarinda', 'mulgrave',\n",
       "       'springvale', 'dingley village', 'springvale south', 'keysborough',\n",
       "       'noble park', 'noble park north', 'dandenong', 'dandenong north',\n",
       "       'dandenong south', 'doveton', 'eumemmerring', 'rowville',\n",
       "       'scoresby', 'knoxfield', 'prahran', 'windsor', 'st kilda',\n",
       "       'st kilda west', 'balaclava', 'st kilda east', 'elwood',\n",
       "       'elsternwick', 'ripponlea', 'gardenvale', 'brighton',\n",
       "       'brighton east', 'hampton', 'hampton east', 'moorabbin', 'highett',\n",
       "       'sandringham', 'cheltenham', 'beaumaris', 'black rock', 'mentone',\n",
       "       'mordialloc', 'parkdale', 'aspendale', 'aspendale gardens',\n",
       "       'waterways', 'bonbeach', 'chelsea', 'edithvale', 'chelsea heights',\n",
       "       'carrum', 'patterson lakes', 'seaford', 'frankston',\n",
       "       'frankston south', 'frankston north', 'carrum downs', 'heatherton',\n",
       "       'bentleigh', 'mckinnon', 'ormond', 'south melbourne', 'albert park',\n",
       "       'middle park', 'port melbourne', 'little river', 'rockbank',\n",
       "       'plumpton', 'melton', 'melton west', 'kurunjang', 'toolern vale',\n",
       "       'melton south', 'brookfield', 'eynesbury', 'exford', 'parwan',\n",
       "       'diggers rest', 'bulla', 'sunbury', 'clarkefield', 'wollert',\n",
       "       'woodstock', 'south morang', 'beveridge', 'mernda', 'doreen',\n",
       "       'yan yean', 'whittlesea', 'kinglake west', 'eden park',\n",
       "       'panton hill', 'smiths gully', 'st andrews', 'kinglake', 'montrose',\n",
       "       'kalorama', 'mount dandenong', 'gruyere', 'coldstream',\n",
       "       'christmas hills', 'dixons creek', 'yarra glen', 'steels creek',\n",
       "       'healesville', 'badger creek', 'mount toolebewong', 'chum creek',\n",
       "       'cockatoo', 'nangana', 'mount burnett', 'avonsleigh', 'emerald',\n",
       "       'clematis', 'macclesfield', 'gembrook', 'tremont', 'ferny creek',\n",
       "       'sassafras', 'olinda', 'sherbrooke', 'kallista', 'the patch',\n",
       "       'monbulk', 'silvan', 'mount evelyn', 'powelltown', 'yarra junction',\n",
       "       'gladysdale', 'three bridges', 'big pats creek', 'millgrove',\n",
       "       'warburton', 'wesburn', 'mcmahons creek', 'endeavour hills',\n",
       "       'hallam', 'narre warren north', 'narre warren east', 'narre warren',\n",
       "       'narre warren south', 'berwick', 'harkaway', 'beaconsfield',\n",
       "       'beaconsfield upper', 'dewhurst', 'officer', 'pakenham',\n",
       "       'pakenham upper', 'nar nar goon', 'maryknoll', 'nar nar goon north',\n",
       "       'tynong', 'garfield', 'bunyip', 'iona', 'longwarry', 'modella',\n",
       "       'langwarrin', 'baxter', 'langwarrin south', 'somerville',\n",
       "       'pearcedale', 'tyabb', 'hastings', 'tuerong', 'merricks',\n",
       "       'shoreham', 'point leo', 'bittern', 'crib point', 'balnarring',\n",
       "       'balnarring beach', 'merricks beach', 'merricks north', 'somers',\n",
       "       'main ridge', 'flinders', 'mount eliza', 'mornington', 'moorooduc',\n",
       "       'mount martha', 'arthurs seat', 'dromana', 'safety beach',\n",
       "       'red hill', 'red hill south', 'mccrae', 'rosebud', 'cape schanck',\n",
       "       'fingal', 'boneo', 'rye', 'tootgarook', 'st andrews beach',\n",
       "       'blairgowrie', 'sorrento', 'portsea'], dtype=object)"
      ]
     },
     "execution_count": 24,
     "metadata": {},
     "output_type": "execute_result"
    }
   ],
   "source": [
    "data2.suburb.unique()"
   ]
  },
  {
   "cell_type": "code",
   "execution_count": null,
   "metadata": {
    "collapsed": true
   },
   "outputs": [],
   "source": []
  }
 ],
 "metadata": {
  "anaconda-cloud": {},
  "kernelspec": {
   "display_name": "Python [default]",
   "language": "python",
   "name": "python2"
  },
  "language_info": {
   "codemirror_mode": {
    "name": "ipython",
    "version": 2
   },
   "file_extension": ".py",
   "mimetype": "text/x-python",
   "name": "python",
   "nbconvert_exporter": "python",
   "pygments_lexer": "ipython2",
   "version": "2.7.13"
  },
  "toc": {
   "nav_menu": {
    "height": "84px",
    "width": "252px"
   },
   "number_sections": true,
   "sideBar": true,
   "skip_h1_title": false,
   "toc_cell": false,
   "toc_position": {},
   "toc_section_display": "block",
   "toc_window_display": false
  }
 },
 "nbformat": 4,
 "nbformat_minor": 2
}
