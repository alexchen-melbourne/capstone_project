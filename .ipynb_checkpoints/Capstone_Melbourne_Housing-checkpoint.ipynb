{
 "cells": [
  {
   "cell_type": "markdown",
   "metadata": {},
   "source": [
    "Load moduls"
   ]
  },
  {
   "cell_type": "code",
   "execution_count": 33,
   "metadata": {
    "ExecuteTime": {
     "end_time": "2017-09-14T23:41:30.054915Z",
     "start_time": "2017-09-14T23:41:30.038981Z"
    },
    "collapsed": true
   },
   "outputs": [],
   "source": [
    "from math import sin, cos, sqrt, atan2, radians\n",
    "import numpy as np\n",
    "import scipy.stats as stats\n",
    "import pandas as pd\n",
    "\n",
    "import matplotlib.pyplot as plt\n",
    "import seaborn as sns\n",
    "sns.set_style('whitegrid')\n",
    "\n",
    "%matplotlib inline\n",
    "%config InlineBackend.figure_format ='retina'"
   ]
  },
  {
   "cell_type": "markdown",
   "metadata": {},
   "source": [
    "# House"
   ]
  },
  {
   "cell_type": "code",
   "execution_count": 42,
   "metadata": {
    "ExecuteTime": {
     "end_time": "2017-09-14T23:43:44.907058Z",
     "start_time": "2017-09-14T23:43:44.391292Z"
    }
   },
   "outputs": [],
   "source": [
    "df = pd.read_csv('data/houses.csv')"
   ]
  },
  {
   "cell_type": "code",
   "execution_count": 43,
   "metadata": {
    "ExecuteTime": {
     "end_time": "2017-09-14T23:43:44.932166Z",
     "start_time": "2017-09-14T23:43:44.908707Z"
    }
   },
   "outputs": [
    {
     "data": {
      "text/html": [
       "<div>\n",
       "<style>\n",
       "    .dataframe thead tr:only-child th {\n",
       "        text-align: right;\n",
       "    }\n",
       "\n",
       "    .dataframe thead th {\n",
       "        text-align: left;\n",
       "    }\n",
       "\n",
       "    .dataframe tbody tr th {\n",
       "        vertical-align: top;\n",
       "    }\n",
       "</style>\n",
       "<table border=\"1\" class=\"dataframe\">\n",
       "  <thead>\n",
       "    <tr style=\"text-align: right;\">\n",
       "      <th></th>\n",
       "      <th>solddate</th>\n",
       "      <th>price</th>\n",
       "      <th>address1</th>\n",
       "      <th>postcode</th>\n",
       "      <th>latitude</th>\n",
       "      <th>longitude</th>\n",
       "      <th>bedrooms</th>\n",
       "      <th>bathrooms</th>\n",
       "      <th>carparkings</th>\n",
       "      <th>agentbrand</th>\n",
       "      <th>location</th>\n",
       "      <th>suburb</th>\n",
       "    </tr>\n",
       "  </thead>\n",
       "  <tbody>\n",
       "    <tr>\n",
       "      <th>0</th>\n",
       "      <td>25-Aug-17</td>\n",
       "      <td>380000</td>\n",
       "      <td>505/7 Katherine Place</td>\n",
       "      <td>3000.0</td>\n",
       "      <td>-37.820240</td>\n",
       "      <td>144.956451</td>\n",
       "      <td>2.0</td>\n",
       "      <td>1</td>\n",
       "      <td>0</td>\n",
       "      <td>City Residential Real Estate</td>\n",
       "      <td>('-37.82024', '144.956451')</td>\n",
       "      <td>MELBOURNE</td>\n",
       "    </tr>\n",
       "    <tr>\n",
       "      <th>1</th>\n",
       "      <td>28-Aug-17</td>\n",
       "      <td>347000</td>\n",
       "      <td>1509/8 Franklin Street</td>\n",
       "      <td>3000.0</td>\n",
       "      <td>-37.807472</td>\n",
       "      <td>144.962021</td>\n",
       "      <td>2.0</td>\n",
       "      <td>1</td>\n",
       "      <td>0</td>\n",
       "      <td>Caine Real Estate</td>\n",
       "      <td>('-37.8074722', '144.962021')</td>\n",
       "      <td>MELBOURNE</td>\n",
       "    </tr>\n",
       "  </tbody>\n",
       "</table>\n",
       "</div>"
      ],
      "text/plain": [
       "    solddate   price                address1  postcode   latitude   longitude  \\\n",
       "0  25-Aug-17  380000   505/7 Katherine Place    3000.0 -37.820240  144.956451   \n",
       "1  28-Aug-17  347000  1509/8 Franklin Street    3000.0 -37.807472  144.962021   \n",
       "\n",
       "   bedrooms bathrooms carparkings                    agentbrand  \\\n",
       "0       2.0         1           0  City Residential Real Estate   \n",
       "1       2.0         1           0             Caine Real Estate   \n",
       "\n",
       "                        location     suburb  \n",
       "0    ('-37.82024', '144.956451')  MELBOURNE  \n",
       "1  ('-37.8074722', '144.962021')  MELBOURNE  "
      ]
     },
     "execution_count": 43,
     "metadata": {},
     "output_type": "execute_result"
    }
   ],
   "source": [
    "df.head(2)"
   ]
  },
  {
   "cell_type": "code",
   "execution_count": 57,
   "metadata": {
    "ExecuteTime": {
     "end_time": "2017-09-14T23:46:58.958399Z",
     "start_time": "2017-09-14T23:46:58.524989Z"
    }
   },
   "outputs": [],
   "source": [
    "df = df[~df.location.isnull()]\n",
    "def calcdist(value):\n",
    "    \n",
    "    slt = value.split('\\'')\n",
    "\n",
    "    lat1 = radians(-37.810817)\n",
    "    lon1 = radians(144.963135)\n",
    "    lat2 = radians(float(slt[1]))\n",
    "    lon2 = radians(float(slt[3]))\n",
    "\n",
    "    dlon = lon2 - lon1\n",
    "    dlat = lat2 - lat1\n",
    "\n",
    "    a = sin(dlat / 2)**2 + cos(lat1) * cos(lat2) * sin(dlon / 2)**2\n",
    "    c = 2 * atan2(sqrt(a), sqrt(1 - a))\n",
    "    \n",
    "    R = 6373.0\n",
    "    distance = R * c\n",
    "\n",
    "    return distance\n",
    "\n",
    "df['dist2cbd'] = df.location.map(calcdist)"
   ]
  },
  {
   "cell_type": "code",
   "execution_count": 59,
   "metadata": {
    "ExecuteTime": {
     "end_time": "2017-09-14T23:47:33.516991Z",
     "start_time": "2017-09-14T23:47:33.499710Z"
    }
   },
   "outputs": [
    {
     "data": {
      "text/html": [
       "<div>\n",
       "<style>\n",
       "    .dataframe thead tr:only-child th {\n",
       "        text-align: right;\n",
       "    }\n",
       "\n",
       "    .dataframe thead th {\n",
       "        text-align: left;\n",
       "    }\n",
       "\n",
       "    .dataframe tbody tr th {\n",
       "        vertical-align: top;\n",
       "    }\n",
       "</style>\n",
       "<table border=\"1\" class=\"dataframe\">\n",
       "  <thead>\n",
       "    <tr style=\"text-align: right;\">\n",
       "      <th></th>\n",
       "      <th>solddate</th>\n",
       "      <th>price</th>\n",
       "      <th>address1</th>\n",
       "      <th>postcode</th>\n",
       "      <th>latitude</th>\n",
       "      <th>longitude</th>\n",
       "      <th>bedrooms</th>\n",
       "      <th>bathrooms</th>\n",
       "      <th>carparkings</th>\n",
       "      <th>agentbrand</th>\n",
       "      <th>location</th>\n",
       "      <th>suburb</th>\n",
       "      <th>dist2cbd</th>\n",
       "    </tr>\n",
       "  </thead>\n",
       "  <tbody>\n",
       "    <tr>\n",
       "      <th>0</th>\n",
       "      <td>25-Aug-17</td>\n",
       "      <td>380000</td>\n",
       "      <td>505/7 Katherine Place</td>\n",
       "      <td>3000.0</td>\n",
       "      <td>-37.820240</td>\n",
       "      <td>144.956451</td>\n",
       "      <td>2.0</td>\n",
       "      <td>1</td>\n",
       "      <td>0</td>\n",
       "      <td>City Residential Real Estate</td>\n",
       "      <td>('-37.82024', '144.956451')</td>\n",
       "      <td>MELBOURNE</td>\n",
       "      <td>1.201459</td>\n",
       "    </tr>\n",
       "    <tr>\n",
       "      <th>1</th>\n",
       "      <td>28-Aug-17</td>\n",
       "      <td>347000</td>\n",
       "      <td>1509/8 Franklin Street</td>\n",
       "      <td>3000.0</td>\n",
       "      <td>-37.807472</td>\n",
       "      <td>144.962021</td>\n",
       "      <td>2.0</td>\n",
       "      <td>1</td>\n",
       "      <td>0</td>\n",
       "      <td>Caine Real Estate</td>\n",
       "      <td>('-37.8074722', '144.962021')</td>\n",
       "      <td>MELBOURNE</td>\n",
       "      <td>0.384706</td>\n",
       "    </tr>\n",
       "  </tbody>\n",
       "</table>\n",
       "</div>"
      ],
      "text/plain": [
       "    solddate   price                address1  postcode   latitude   longitude  \\\n",
       "0  25-Aug-17  380000   505/7 Katherine Place    3000.0 -37.820240  144.956451   \n",
       "1  28-Aug-17  347000  1509/8 Franklin Street    3000.0 -37.807472  144.962021   \n",
       "\n",
       "   bedrooms bathrooms carparkings                    agentbrand  \\\n",
       "0       2.0         1           0  City Residential Real Estate   \n",
       "1       2.0         1           0             Caine Real Estate   \n",
       "\n",
       "                        location     suburb  dist2cbd  \n",
       "0    ('-37.82024', '144.956451')  MELBOURNE  1.201459  \n",
       "1  ('-37.8074722', '144.962021')  MELBOURNE  0.384706  "
      ]
     },
     "execution_count": 59,
     "metadata": {},
     "output_type": "execute_result"
    }
   ],
   "source": [
    "df.head(2)"
   ]
  },
  {
   "cell_type": "code",
   "execution_count": null,
   "metadata": {
    "collapsed": true
   },
   "outputs": [],
   "source": []
  }
 ],
 "metadata": {
  "anaconda-cloud": {},
  "kernelspec": {
   "display_name": "Python [default]",
   "language": "python",
   "name": "python2"
  },
  "language_info": {
   "codemirror_mode": {
    "name": "ipython",
    "version": 2
   },
   "file_extension": ".py",
   "mimetype": "text/x-python",
   "name": "python",
   "nbconvert_exporter": "python",
   "pygments_lexer": "ipython2",
   "version": "2.7.13"
  },
  "toc": {
   "colors": {
    "hover_highlight": "#DAA520",
    "navigate_num": "#000000",
    "navigate_text": "#333333",
    "running_highlight": "#FF0000",
    "selected_highlight": "#FFD700",
    "sidebar_border": "#EEEEEE",
    "wrapper_background": "#FFFFFF"
   },
   "moveMenuLeft": true,
   "nav_menu": {
    "height": "84px",
    "width": "252px"
   },
   "navigate_menu": true,
   "number_sections": true,
   "sideBar": true,
   "threshold": 4,
   "toc_cell": false,
   "toc_section_display": "block",
   "toc_window_display": true,
   "widenNotebook": false
  }
 },
 "nbformat": 4,
 "nbformat_minor": 2
}
