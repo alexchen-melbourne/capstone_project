{
 "cells": [
  {
   "cell_type": "markdown",
   "metadata": {},
   "source": [
    "### Capstone Project: Melbourne Housing Market"
   ]
  },
  {
   "cell_type": "markdown",
   "metadata": {},
   "source": [
    "## Load moduls"
   ]
  },
  {
   "cell_type": "code",
   "execution_count": 22,
   "metadata": {
    "ExecuteTime": {
     "end_time": "2017-09-08T00:50:22.561459Z",
     "start_time": "2017-09-08T00:50:22.547415Z"
    },
    "collapsed": true
   },
   "outputs": [],
   "source": [
    "# data modules\n",
    "import numpy as np\n",
    "import scipy.stats as stats\n",
    "import pandas as pd\n",
    "\n",
    "# plotting modules\n",
    "import matplotlib.pyplot as plt\n",
    "import seaborn as sns\n",
    "sns.set_style('whitegrid')\n",
    "\n",
    "# make sure charts appear in the notebook:\n",
    "%matplotlib inline\n",
    "%config InlineBackend.figure_format ='retina'"
   ]
  },
  {
   "cell_type": "markdown",
   "metadata": {},
   "source": [
    "## Load data"
   ]
  },
  {
   "cell_type": "code",
   "execution_count": 82,
   "metadata": {
    "ExecuteTime": {
     "end_time": "2017-09-08T03:52:05.266872Z",
     "start_time": "2017-09-08T03:52:04.514003Z"
    },
    "collapsed": true
   },
   "outputs": [],
   "source": [
    "df = pd.read_csv('data/houses.csv')"
   ]
  },
  {
   "cell_type": "code",
   "execution_count": 83,
   "metadata": {
    "ExecuteTime": {
     "end_time": "2017-09-08T03:52:05.272261Z",
     "start_time": "2017-09-08T03:52:05.268446Z"
    }
   },
   "outputs": [
    {
     "data": {
      "text/plain": [
       "(321844, 12)"
      ]
     },
     "execution_count": 83,
     "metadata": {},
     "output_type": "execute_result"
    }
   ],
   "source": [
    "df.shape"
   ]
  },
  {
   "cell_type": "code",
   "execution_count": 97,
   "metadata": {
    "ExecuteTime": {
     "end_time": "2017-09-08T03:56:24.440924Z",
     "start_time": "2017-09-08T03:56:24.405083Z"
    },
    "collapsed": true
   },
   "outputs": [],
   "source": [
    "df = df[~((df.bathrooms == 0) & (df.bedrooms == 0))]"
   ]
  },
  {
   "cell_type": "code",
   "execution_count": 99,
   "metadata": {
    "ExecuteTime": {
     "end_time": "2017-09-08T03:56:29.543066Z",
     "start_time": "2017-09-08T03:56:29.525164Z"
    }
   },
   "outputs": [
    {
     "data": {
      "text/html": [
       "<div>\n",
       "<style>\n",
       "    .dataframe thead tr:only-child th {\n",
       "        text-align: right;\n",
       "    }\n",
       "\n",
       "    .dataframe thead th {\n",
       "        text-align: left;\n",
       "    }\n",
       "\n",
       "    .dataframe tbody tr th {\n",
       "        vertical-align: top;\n",
       "    }\n",
       "</style>\n",
       "<table border=\"1\" class=\"dataframe\">\n",
       "  <thead>\n",
       "    <tr style=\"text-align: right;\">\n",
       "      <th></th>\n",
       "      <th>solddate</th>\n",
       "      <th>price</th>\n",
       "      <th>address1</th>\n",
       "      <th>postcode</th>\n",
       "      <th>latitude</th>\n",
       "      <th>longitude</th>\n",
       "      <th>bedrooms</th>\n",
       "      <th>bathrooms</th>\n",
       "      <th>carparkings</th>\n",
       "      <th>agentbrand</th>\n",
       "      <th>location</th>\n",
       "      <th>suburb</th>\n",
       "    </tr>\n",
       "  </thead>\n",
       "  <tbody>\n",
       "    <tr>\n",
       "      <th>0</th>\n",
       "      <td>08 May 2017</td>\n",
       "      <td>165000</td>\n",
       "      <td>907/268 Flinders Street</td>\n",
       "      <td>3000.0</td>\n",
       "      <td>-37.817764</td>\n",
       "      <td>144.965652</td>\n",
       "      <td>0</td>\n",
       "      <td>1</td>\n",
       "      <td>0</td>\n",
       "      <td>Inner Real Estate NEXTRE</td>\n",
       "      <td>('-37.8177643', '144.965652')</td>\n",
       "      <td>MELBOURNE</td>\n",
       "    </tr>\n",
       "    <tr>\n",
       "      <th>1</th>\n",
       "      <td>11 Mar 2017</td>\n",
       "      <td>187700</td>\n",
       "      <td>7/9-13 Anthony Street</td>\n",
       "      <td>3000.0</td>\n",
       "      <td>-37.809220</td>\n",
       "      <td>144.958939</td>\n",
       "      <td>0</td>\n",
       "      <td>1</td>\n",
       "      <td>0</td>\n",
       "      <td>Purplebricks VIC</td>\n",
       "      <td>('-37.80922', '144.958939')</td>\n",
       "      <td>MELBOURNE</td>\n",
       "    </tr>\n",
       "  </tbody>\n",
       "</table>\n",
       "</div>"
      ],
      "text/plain": [
       "      solddate   price                 address1  postcode   latitude  \\\n",
       "0  08 May 2017  165000  907/268 Flinders Street    3000.0 -37.817764   \n",
       "1  11 Mar 2017  187700    7/9-13 Anthony Street    3000.0 -37.809220   \n",
       "\n",
       "    longitude  bedrooms  bathrooms  carparkings                agentbrand  \\\n",
       "0  144.965652         0          1            0  Inner Real Estate NEXTRE   \n",
       "1  144.958939         0          1            0          Purplebricks VIC   \n",
       "\n",
       "                        location     suburb  \n",
       "0  ('-37.8177643', '144.965652')  MELBOURNE  \n",
       "1    ('-37.80922', '144.958939')  MELBOURNE  "
      ]
     },
     "execution_count": 99,
     "metadata": {},
     "output_type": "execute_result"
    }
   ],
   "source": [
    "df.head(2)"
   ]
  },
  {
   "cell_type": "code",
   "execution_count": 130,
   "metadata": {
    "ExecuteTime": {
     "end_time": "2017-09-08T04:20:21.142145Z",
     "start_time": "2017-09-08T04:20:21.137829Z"
    },
    "collapsed": true
   },
   "outputs": [],
   "source": [
    "df1 = df.iloc[:100000, :]\n",
    "df2 = df.iloc[100000:200000, :]\n",
    "df3 = df.iloc[200000:, ]"
   ]
  },
  {
   "cell_type": "code",
   "execution_count": 131,
   "metadata": {
    "ExecuteTime": {
     "end_time": "2017-09-08T04:20:22.725362Z",
     "start_time": "2017-09-08T04:20:21.455114Z"
    }
   },
   "outputs": [],
   "source": [
    "df1.to_csv('house1.csv', index=False)\n",
    "df2.to_csv('house2.csv', index=False)\n",
    "df3.to_csv('house3.csv', index=False)"
   ]
  },
  {
   "cell_type": "code",
   "execution_count": null,
   "metadata": {
    "collapsed": true
   },
   "outputs": [],
   "source": []
  },
  {
   "cell_type": "code",
   "execution_count": null,
   "metadata": {
    "collapsed": true
   },
   "outputs": [],
   "source": []
  }
 ],
 "metadata": {
  "anaconda-cloud": {},
  "kernelspec": {
   "display_name": "Python [default]",
   "language": "python",
   "name": "python2"
  },
  "language_info": {
   "codemirror_mode": {
    "name": "ipython",
    "version": 2
   },
   "file_extension": ".py",
   "mimetype": "text/x-python",
   "name": "python",
   "nbconvert_exporter": "python",
   "pygments_lexer": "ipython2",
   "version": "2.7.13"
  },
  "toc": {
   "colors": {
    "hover_highlight": "#DAA520",
    "navigate_num": "#000000",
    "navigate_text": "#333333",
    "running_highlight": "#FF0000",
    "selected_highlight": "#FFD700",
    "sidebar_border": "#EEEEEE",
    "wrapper_background": "#FFFFFF"
   },
   "moveMenuLeft": true,
   "nav_menu": {
    "height": "84px",
    "width": "252px"
   },
   "navigate_menu": true,
   "number_sections": true,
   "sideBar": true,
   "threshold": 4,
   "toc_cell": false,
   "toc_section_display": "block",
   "toc_window_display": false,
   "widenNotebook": false
  }
 },
 "nbformat": 4,
 "nbformat_minor": 2
}
