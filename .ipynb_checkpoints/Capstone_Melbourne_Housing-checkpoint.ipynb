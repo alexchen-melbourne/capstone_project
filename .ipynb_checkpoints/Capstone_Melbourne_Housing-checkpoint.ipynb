{
 "cells": [
  {
   "cell_type": "markdown",
   "metadata": {},
   "source": [
    "Load moduls"
   ]
  },
  {
   "cell_type": "code",
   "execution_count": 1,
   "metadata": {
    "ExecuteTime": {
     "end_time": "2017-09-14T23:41:30.054915Z",
     "start_time": "2017-09-14T23:41:30.038981Z"
    },
    "collapsed": true
   },
   "outputs": [],
   "source": [
    "from math import sin, cos, sqrt, atan2, radians\n",
    "import re, string\n",
    "import numpy as np\n",
    "import scipy.stats as stats\n",
    "import pandas as pd\n",
    "\n",
    "import matplotlib.pyplot as plt\n",
    "import seaborn as sns\n",
    "sns.set_style('whitegrid')\n",
    "\n",
    "%matplotlib inline\n",
    "%config InlineBackend.figure_format ='retina'"
   ]
  },
  {
   "cell_type": "markdown",
   "metadata": {},
   "source": [
    "# House Data Cleaning"
   ]
  },
  {
   "cell_type": "code",
   "execution_count": 2,
   "metadata": {
    "ExecuteTime": {
     "end_time": "2017-09-14T23:43:44.907058Z",
     "start_time": "2017-09-14T23:43:44.391292Z"
    }
   },
   "outputs": [
    {
     "name": "stderr",
     "output_type": "stream",
     "text": [
      "/Users/alex/anaconda/lib/python2.7/site-packages/IPython/core/interactiveshell.py:2717: DtypeWarning: Columns (7,8) have mixed types. Specify dtype option on import or set low_memory=False.\n",
      "  interactivity=interactivity, compiler=compiler, result=result)\n"
     ]
    }
   ],
   "source": [
    "df = pd.read_csv('data/houses.csv')"
   ]
  },
  {
   "cell_type": "code",
   "execution_count": 3,
   "metadata": {
    "ExecuteTime": {
     "end_time": "2017-09-14T23:46:58.958399Z",
     "start_time": "2017-09-14T23:46:58.524989Z"
    },
    "collapsed": true
   },
   "outputs": [],
   "source": [
    "df = df[~df.location.isnull()]\n",
    "def calcdist(value):\n",
    "    \n",
    "    slt = value.split('\\'')\n",
    "\n",
    "    lat1 = radians(-37.810817)\n",
    "    lon1 = radians(144.963135)\n",
    "    lat2 = radians(float(slt[1]))\n",
    "    lon2 = radians(float(slt[3]))\n",
    "\n",
    "    dlon = lon2 - lon1\n",
    "    dlat = lat2 - lat1\n",
    "\n",
    "    a = sin(dlat / 2)**2 + cos(lat1) * cos(lat2) * sin(dlon / 2)**2\n",
    "    c = 2 * atan2(sqrt(a), sqrt(1 - a))\n",
    "    \n",
    "    R = 6373.0\n",
    "    distance = R * c\n",
    "\n",
    "    return distance\n",
    "\n",
    "df['dist2cbd'] = df.location.map(calcdist)"
   ]
  },
  {
   "cell_type": "code",
   "execution_count": 4,
   "metadata": {
    "ExecuteTime": {
     "end_time": "2017-09-15T01:04:28.832747Z",
     "start_time": "2017-09-15T01:04:28.829321Z"
    },
    "collapsed": true
   },
   "outputs": [],
   "source": [
    "choose_sub = ['yarraville', 'newport', 'spotswood', 'kensington',\n",
    "              'ascot vale', 'moonee ponds', 'coburg', 'clifton hill',\n",
    "              'northcote', 'malvern east', 'glen iris', 'elsternwick',\n",
    "              'ormond']"
   ]
  },
  {
   "cell_type": "code",
   "execution_count": 5,
   "metadata": {
    "ExecuteTime": {
     "end_time": "2017-09-15T01:04:29.196623Z",
     "start_time": "2017-09-15T01:04:29.115224Z"
    },
    "collapsed": true
   },
   "outputs": [],
   "source": [
    "df.suburb = df.suburb.str.lower()"
   ]
  },
  {
   "cell_type": "code",
   "execution_count": 6,
   "metadata": {
    "ExecuteTime": {
     "end_time": "2017-09-15T01:04:29.486986Z",
     "start_time": "2017-09-15T01:04:29.483251Z"
    }
   },
   "outputs": [
    {
     "data": {
      "text/plain": [
       "(203198, 13)"
      ]
     },
     "execution_count": 6,
     "metadata": {},
     "output_type": "execute_result"
    }
   ],
   "source": [
    "df.shape"
   ]
  },
  {
   "cell_type": "code",
   "execution_count": 7,
   "metadata": {},
   "outputs": [
    {
     "data": {
      "text/html": [
       "<div>\n",
       "<style>\n",
       "    .dataframe thead tr:only-child th {\n",
       "        text-align: right;\n",
       "    }\n",
       "\n",
       "    .dataframe thead th {\n",
       "        text-align: left;\n",
       "    }\n",
       "\n",
       "    .dataframe tbody tr th {\n",
       "        vertical-align: top;\n",
       "    }\n",
       "</style>\n",
       "<table border=\"1\" class=\"dataframe\">\n",
       "  <thead>\n",
       "    <tr style=\"text-align: right;\">\n",
       "      <th></th>\n",
       "      <th>solddate</th>\n",
       "      <th>price</th>\n",
       "      <th>address1</th>\n",
       "      <th>postcode</th>\n",
       "      <th>latitude</th>\n",
       "      <th>longitude</th>\n",
       "      <th>bedrooms</th>\n",
       "      <th>bathrooms</th>\n",
       "      <th>carparkings</th>\n",
       "      <th>agentbrand</th>\n",
       "      <th>location</th>\n",
       "      <th>suburb</th>\n",
       "      <th>dist2cbd</th>\n",
       "    </tr>\n",
       "  </thead>\n",
       "  <tbody>\n",
       "    <tr>\n",
       "      <th>0</th>\n",
       "      <td>25-Aug-17</td>\n",
       "      <td>380000</td>\n",
       "      <td>505/7 Katherine Place</td>\n",
       "      <td>3000.0</td>\n",
       "      <td>-37.820240</td>\n",
       "      <td>144.956451</td>\n",
       "      <td>2.0</td>\n",
       "      <td>1</td>\n",
       "      <td>0</td>\n",
       "      <td>City Residential Real Estate</td>\n",
       "      <td>('-37.82024', '144.956451')</td>\n",
       "      <td>melbourne</td>\n",
       "      <td>1.201459</td>\n",
       "    </tr>\n",
       "    <tr>\n",
       "      <th>1</th>\n",
       "      <td>28-Aug-17</td>\n",
       "      <td>347000</td>\n",
       "      <td>1509/8 Franklin Street</td>\n",
       "      <td>3000.0</td>\n",
       "      <td>-37.807472</td>\n",
       "      <td>144.962021</td>\n",
       "      <td>2.0</td>\n",
       "      <td>1</td>\n",
       "      <td>0</td>\n",
       "      <td>Caine Real Estate</td>\n",
       "      <td>('-37.8074722', '144.962021')</td>\n",
       "      <td>melbourne</td>\n",
       "      <td>0.384706</td>\n",
       "    </tr>\n",
       "    <tr>\n",
       "      <th>2</th>\n",
       "      <td>26-Aug-17</td>\n",
       "      <td>458000</td>\n",
       "      <td>2107/80 A'Beckett Street</td>\n",
       "      <td>3000.0</td>\n",
       "      <td>-37.809036</td>\n",
       "      <td>144.961090</td>\n",
       "      <td>2.0</td>\n",
       "      <td>1</td>\n",
       "      <td>0</td>\n",
       "      <td>MICM Real Estate</td>\n",
       "      <td>('-37.8090363', '144.96109')</td>\n",
       "      <td>melbourne</td>\n",
       "      <td>0.267443</td>\n",
       "    </tr>\n",
       "    <tr>\n",
       "      <th>3</th>\n",
       "      <td>24-Aug-17</td>\n",
       "      <td>440000</td>\n",
       "      <td>813/25 Therry Street</td>\n",
       "      <td>3000.0</td>\n",
       "      <td>-37.806942</td>\n",
       "      <td>144.961075</td>\n",
       "      <td>2.0</td>\n",
       "      <td>1</td>\n",
       "      <td>0</td>\n",
       "      <td>Melcorp Property Pty Ltd</td>\n",
       "      <td>('-37.806942', '144.961075')</td>\n",
       "      <td>melbourne</td>\n",
       "      <td>0.467489</td>\n",
       "    </tr>\n",
       "    <tr>\n",
       "      <th>4</th>\n",
       "      <td>18-Aug-17</td>\n",
       "      <td>550000</td>\n",
       "      <td>2303/568 Collins Street</td>\n",
       "      <td>3000.0</td>\n",
       "      <td>-37.818474</td>\n",
       "      <td>144.955475</td>\n",
       "      <td>2.0</td>\n",
       "      <td>2</td>\n",
       "      <td>0</td>\n",
       "      <td>MICM Real Estate</td>\n",
       "      <td>('-37.8184738', '144.955475')</td>\n",
       "      <td>melbourne</td>\n",
       "      <td>1.085536</td>\n",
       "    </tr>\n",
       "  </tbody>\n",
       "</table>\n",
       "</div>"
      ],
      "text/plain": [
       "    solddate   price                  address1  postcode   latitude  \\\n",
       "0  25-Aug-17  380000     505/7 Katherine Place    3000.0 -37.820240   \n",
       "1  28-Aug-17  347000    1509/8 Franklin Street    3000.0 -37.807472   \n",
       "2  26-Aug-17  458000  2107/80 A'Beckett Street    3000.0 -37.809036   \n",
       "3  24-Aug-17  440000      813/25 Therry Street    3000.0 -37.806942   \n",
       "4  18-Aug-17  550000   2303/568 Collins Street    3000.0 -37.818474   \n",
       "\n",
       "    longitude  bedrooms bathrooms carparkings                    agentbrand  \\\n",
       "0  144.956451       2.0         1           0  City Residential Real Estate   \n",
       "1  144.962021       2.0         1           0             Caine Real Estate   \n",
       "2  144.961090       2.0         1           0              MICM Real Estate   \n",
       "3  144.961075       2.0         1           0     Melcorp Property Pty Ltd    \n",
       "4  144.955475       2.0         2           0              MICM Real Estate   \n",
       "\n",
       "                        location     suburb  dist2cbd  \n",
       "0    ('-37.82024', '144.956451')  melbourne  1.201459  \n",
       "1  ('-37.8074722', '144.962021')  melbourne  0.384706  \n",
       "2   ('-37.8090363', '144.96109')  melbourne  0.267443  \n",
       "3   ('-37.806942', '144.961075')  melbourne  0.467489  \n",
       "4  ('-37.8184738', '144.955475')  melbourne  1.085536  "
      ]
     },
     "execution_count": 7,
     "metadata": {},
     "output_type": "execute_result"
    }
   ],
   "source": [
    "df.head()"
   ]
  },
  {
   "cell_type": "markdown",
   "metadata": {},
   "source": [
    "# EDA"
   ]
  },
  {
   "cell_type": "code",
   "execution_count": 8,
   "metadata": {
    "ExecuteTime": {
     "end_time": "2017-09-15T01:04:39.205651Z",
     "start_time": "2017-09-15T01:04:39.126644Z"
    },
    "collapsed": true
   },
   "outputs": [],
   "source": [
    "def ch(x):\n",
    "    if x in choose_sub:\n",
    "        return True\n",
    "    else:\n",
    "        return False\n",
    "    \n",
    "ch = df[df.suburb.map(ch)]"
   ]
  },
  {
   "cell_type": "code",
   "execution_count": 9,
   "metadata": {
    "ExecuteTime": {
     "end_time": "2017-09-15T01:04:48.065609Z",
     "start_time": "2017-09-15T01:04:48.060755Z"
    }
   },
   "outputs": [
    {
     "data": {
      "text/plain": [
       "array(['yarraville', 'newport', 'spotswood', 'kensington', 'ascot vale',\n",
       "       'moonee ponds', 'coburg', 'clifton hill', 'northcote',\n",
       "       'malvern east', 'glen iris', 'elsternwick', 'ormond'], dtype=object)"
      ]
     },
     "execution_count": 9,
     "metadata": {},
     "output_type": "execute_result"
    }
   ],
   "source": [
    "ch.suburb.unique()"
   ]
  },
  {
   "cell_type": "code",
   "execution_count": 10,
   "metadata": {
    "ExecuteTime": {
     "end_time": "2017-09-15T01:06:55.146700Z",
     "start_time": "2017-09-15T01:06:55.142040Z"
    },
    "collapsed": true
   },
   "outputs": [],
   "source": [
    "c = ch.drop(['postcode', 'latitude', 'longitude', 'location'], axis=1)\n",
    "\n",
    "# pd.to_datetime(c.solddate)\n",
    "def qw(x):\n",
    "    try:\n",
    "        s = x.split('-')\n",
    "        month = s[1]\n",
    "        return True\n",
    "    except:\n",
    "        return False\n",
    "c = c[c.solddate.map(qw)]\n",
    "\n",
    "c.solddate = pd.to_datetime(c.solddate)\n",
    "c.solddate = c.solddate.map(lambda x: x.strftime('%Y-%m'))"
   ]
  },
  {
   "cell_type": "code",
   "execution_count": 11,
   "metadata": {
    "ExecuteTime": {
     "end_time": "2017-09-15T01:41:13.179329Z",
     "start_time": "2017-09-15T01:41:11.778009Z"
    },
    "collapsed": true
   },
   "outputs": [],
   "source": [
    "# c.groupby(by='solddate').count()['price'][56:-1].plot(kind='bar', figsize=(20,10))"
   ]
  },
  {
   "cell_type": "code",
   "execution_count": 12,
   "metadata": {
    "ExecuteTime": {
     "end_time": "2017-09-15T01:45:36.913097Z",
     "start_time": "2017-09-15T01:45:36.908558Z"
    },
    "collapsed": true
   },
   "outputs": [],
   "source": [
    "# outliers \n",
    "c = c[~(c.price > 4000000)]"
   ]
  },
  {
   "cell_type": "code",
   "execution_count": 13,
   "metadata": {
    "ExecuteTime": {
     "end_time": "2017-09-15T01:57:19.173589Z",
     "start_time": "2017-09-15T01:57:18.284652Z"
    }
   },
   "outputs": [
    {
     "data": {
      "text/plain": [
       "<matplotlib.figure.Figure at 0x1166becd0>"
      ]
     },
     "metadata": {},
     "output_type": "display_data"
    }
   ],
   "source": [
    "me = c.price.median()\n",
    "ma = c.price.mean()\n",
    "plt.figure(figsize=(18,10))\n",
    "\n",
    "font = {'family': 'serif',\n",
    "        'color':  'darkred',\n",
    "        'weight': 'normal',\n",
    "        'size': 16,\n",
    "        }\n",
    "# plt.text(2500000, 0.00000125, s='Median '+str(me), fontsize=30, fontdict={'color':'red'})\n",
    "# plt.text(2500000, 0.00000105, s='Mean  '+str(round(ma)), fontsize=30, fontdict={'color':'blue'})\n",
    "\n",
    "# plt.plot([me, me], [0, 0.00000165], 'r-', lw=3)\n",
    "# plt.plot([ma, ma], [0, 0.00000165], 'b-', lw=3)\n",
    "# sns.distplot(c.price)"
   ]
  },
  {
   "cell_type": "code",
   "execution_count": 14,
   "metadata": {
    "ExecuteTime": {
     "end_time": "2017-09-15T02:08:46.963623Z",
     "start_time": "2017-09-15T02:08:46.898529Z"
    },
    "collapsed": true
   },
   "outputs": [],
   "source": [
    "# c.groupby(by='agentbrand').count().sort_values(by='price', ascending=False)"
   ]
  },
  {
   "cell_type": "code",
   "execution_count": 15,
   "metadata": {
    "ExecuteTime": {
     "end_time": "2017-09-15T02:16:51.832939Z",
     "start_time": "2017-09-15T02:16:50.939193Z"
    },
    "collapsed": true
   },
   "outputs": [],
   "source": [
    "c.bathrooms = c.bathrooms.astype(int)\n",
    "c.carparkings = c.carparkings.astype(int)\n",
    "corr = c[['bedrooms', 'bathrooms', 'carparkings', 'dist2cbd', 'price']].corr()\n",
    "# sns.heatmap(corr, annot=True)"
   ]
  },
  {
   "cell_type": "markdown",
   "metadata": {
    "collapsed": true
   },
   "source": [
    "# Model"
   ]
  },
  {
   "cell_type": "code",
   "execution_count": 67,
   "metadata": {
    "collapsed": true
   },
   "outputs": [],
   "source": [
    "data = df.copy()\n",
    "data.drop(['latitude', 'longitude', 'location', 'postcode'], axis=1, inplace=True)\n",
    "data.drop(19517, axis=0, inplace=True)"
   ]
  },
  {
   "cell_type": "code",
   "execution_count": 68,
   "metadata": {
    "collapsed": true,
    "scrolled": false
   },
   "outputs": [],
   "source": [
    "def getStreetName(x):\n",
    "    result = ''.join([i for i in x if not i.isdigit()])\n",
    "    result = re.sub(r'[^\\w]', ' ', result)\n",
    "    result = ' '.join([x for x in result.split() if len(x) != 1])\n",
    "    return result.lower()\n",
    "\n",
    "data.address1 = data.address1.map(getStreetName)"
   ]
  },
  {
   "cell_type": "code",
   "execution_count": 149,
   "metadata": {},
   "outputs": [
    {
     "data": {
      "text/html": [
       "<div>\n",
       "<style>\n",
       "    .dataframe thead tr:only-child th {\n",
       "        text-align: right;\n",
       "    }\n",
       "\n",
       "    .dataframe thead th {\n",
       "        text-align: left;\n",
       "    }\n",
       "\n",
       "    .dataframe tbody tr th {\n",
       "        vertical-align: top;\n",
       "    }\n",
       "</style>\n",
       "<table border=\"1\" class=\"dataframe\">\n",
       "  <thead>\n",
       "    <tr style=\"text-align: right;\">\n",
       "      <th></th>\n",
       "      <th>solddate</th>\n",
       "      <th>price</th>\n",
       "      <th>address1</th>\n",
       "      <th>bedrooms</th>\n",
       "      <th>bathrooms</th>\n",
       "      <th>carparkings</th>\n",
       "      <th>agentbrand</th>\n",
       "      <th>suburb</th>\n",
       "      <th>dist2cbd</th>\n",
       "    </tr>\n",
       "  </thead>\n",
       "  <tbody>\n",
       "    <tr>\n",
       "      <th>0</th>\n",
       "      <td>25-Aug-17</td>\n",
       "      <td>380000</td>\n",
       "      <td>katherine place</td>\n",
       "      <td>2.0</td>\n",
       "      <td>1</td>\n",
       "      <td>0</td>\n",
       "      <td>City Residential Real Estate</td>\n",
       "      <td>melbourne</td>\n",
       "      <td>1.201459</td>\n",
       "    </tr>\n",
       "    <tr>\n",
       "      <th>1</th>\n",
       "      <td>28-Aug-17</td>\n",
       "      <td>347000</td>\n",
       "      <td>franklin street</td>\n",
       "      <td>2.0</td>\n",
       "      <td>1</td>\n",
       "      <td>0</td>\n",
       "      <td>Caine Real Estate</td>\n",
       "      <td>melbourne</td>\n",
       "      <td>0.384706</td>\n",
       "    </tr>\n",
       "    <tr>\n",
       "      <th>2</th>\n",
       "      <td>26-Aug-17</td>\n",
       "      <td>458000</td>\n",
       "      <td>beckett street</td>\n",
       "      <td>2.0</td>\n",
       "      <td>1</td>\n",
       "      <td>0</td>\n",
       "      <td>MICM Real Estate</td>\n",
       "      <td>melbourne</td>\n",
       "      <td>0.267443</td>\n",
       "    </tr>\n",
       "    <tr>\n",
       "      <th>3</th>\n",
       "      <td>24-Aug-17</td>\n",
       "      <td>440000</td>\n",
       "      <td>therry street</td>\n",
       "      <td>2.0</td>\n",
       "      <td>1</td>\n",
       "      <td>0</td>\n",
       "      <td>Melcorp Property Pty Ltd</td>\n",
       "      <td>melbourne</td>\n",
       "      <td>0.467489</td>\n",
       "    </tr>\n",
       "    <tr>\n",
       "      <th>4</th>\n",
       "      <td>18-Aug-17</td>\n",
       "      <td>550000</td>\n",
       "      <td>collins street</td>\n",
       "      <td>2.0</td>\n",
       "      <td>2</td>\n",
       "      <td>0</td>\n",
       "      <td>MICM Real Estate</td>\n",
       "      <td>melbourne</td>\n",
       "      <td>1.085536</td>\n",
       "    </tr>\n",
       "  </tbody>\n",
       "</table>\n",
       "</div>"
      ],
      "text/plain": [
       "    solddate   price         address1  bedrooms bathrooms carparkings  \\\n",
       "0  25-Aug-17  380000  katherine place       2.0         1           0   \n",
       "1  28-Aug-17  347000  franklin street       2.0         1           0   \n",
       "2  26-Aug-17  458000   beckett street       2.0         1           0   \n",
       "3  24-Aug-17  440000    therry street       2.0         1           0   \n",
       "4  18-Aug-17  550000   collins street       2.0         2           0   \n",
       "\n",
       "                     agentbrand     suburb  dist2cbd  \n",
       "0  City Residential Real Estate  melbourne  1.201459  \n",
       "1             Caine Real Estate  melbourne  0.384706  \n",
       "2              MICM Real Estate  melbourne  0.267443  \n",
       "3     Melcorp Property Pty Ltd   melbourne  0.467489  \n",
       "4              MICM Real Estate  melbourne  1.085536  "
      ]
     },
     "execution_count": 149,
     "metadata": {},
     "output_type": "execute_result"
    }
   ],
   "source": [
    "data.head()"
   ]
  },
  {
   "cell_type": "code",
   "execution_count": 179,
   "metadata": {},
   "outputs": [],
   "source": [
    "suburb = pd.read_csv('suburb.csv')\n",
    "suburb.columns = ['suburb', 'post', 'region']\n",
    "suburb.suburb = suburb.suburb.str.lower()\n",
    "suburb.suburb = suburb.suburb.str.strip()"
   ]
  },
  {
   "cell_type": "code",
   "execution_count": 180,
   "metadata": {},
   "outputs": [
    {
     "data": {
      "text/plain": [
       "'carlton'"
      ]
     },
     "execution_count": 180,
     "metadata": {},
     "output_type": "execute_result"
    }
   ],
   "source": [
    "suburb.suburb[0]"
   ]
  },
  {
   "cell_type": "code",
   "execution_count": 181,
   "metadata": {},
   "outputs": [],
   "source": [
    "t = pd.merge(data, suburb, on='suburb', how='left')"
   ]
  },
  {
   "cell_type": "code",
   "execution_count": 184,
   "metadata": {},
   "outputs": [],
   "source": [
    "tt = t.dropna()"
   ]
  },
  {
   "cell_type": "code",
   "execution_count": 186,
   "metadata": {},
   "outputs": [
    {
     "data": {
      "text/plain": [
       "array(['Inner', 'Western', 'Geelong', 'Southeastern', 'Northern', 'Eastern'], dtype=object)"
      ]
     },
     "execution_count": 186,
     "metadata": {},
     "output_type": "execute_result"
    }
   ],
   "source": [
    "tt.region.unique()"
   ]
  },
  {
   "cell_type": "code",
   "execution_count": null,
   "metadata": {
    "collapsed": true
   },
   "outputs": [],
   "source": []
  }
 ],
 "metadata": {
  "anaconda-cloud": {},
  "kernelspec": {
   "display_name": "Python [default]",
   "language": "python",
   "name": "python2"
  },
  "language_info": {
   "codemirror_mode": {
    "name": "ipython",
    "version": 2
   },
   "file_extension": ".py",
   "mimetype": "text/x-python",
   "name": "python",
   "nbconvert_exporter": "python",
   "pygments_lexer": "ipython2",
   "version": "2.7.13"
  },
  "toc": {
   "nav_menu": {
    "height": "84px",
    "width": "252px"
   },
   "number_sections": true,
   "sideBar": true,
   "skip_h1_title": false,
   "toc_cell": false,
   "toc_position": {},
   "toc_section_display": "block",
   "toc_window_display": true
  }
 },
 "nbformat": 4,
 "nbformat_minor": 2
}
