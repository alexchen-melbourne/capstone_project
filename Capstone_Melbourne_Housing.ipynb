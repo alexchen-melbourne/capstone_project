{
 "cells": [
  {
   "cell_type": "markdown",
   "metadata": {},
   "source": [
    "### Capstone Project: Melbourne Housing Market"
   ]
  },
  {
   "cell_type": "markdown",
   "metadata": {},
   "source": [
    "## Load moduls"
   ]
  },
  {
   "cell_type": "code",
   "execution_count": 22,
   "metadata": {
    "ExecuteTime": {
     "end_time": "2017-09-08T00:50:22.561459Z",
     "start_time": "2017-09-08T00:50:22.547415Z"
    },
    "collapsed": true
   },
   "outputs": [],
   "source": [
    "# data modules\n",
    "import numpy as np\n",
    "import scipy.stats as stats\n",
    "import pandas as pd\n",
    "\n",
    "# plotting modules\n",
    "import matplotlib.pyplot as plt\n",
    "import seaborn as sns\n",
    "sns.set_style('whitegrid')\n",
    "\n",
    "# make sure charts appear in the notebook:\n",
    "%matplotlib inline\n",
    "%config InlineBackend.figure_format ='retina'"
   ]
  },
  {
   "cell_type": "markdown",
   "metadata": {},
   "source": [
    "## Load data"
   ]
  },
  {
   "cell_type": "code",
   "execution_count": 23,
   "metadata": {
    "ExecuteTime": {
     "end_time": "2017-09-08T00:50:25.479792Z",
     "start_time": "2017-09-08T00:50:24.170285Z"
    }
   },
   "outputs": [],
   "source": [
    "df = pd.read_csv('data/houses.csv')"
   ]
  },
  {
   "cell_type": "code",
   "execution_count": 24,
   "metadata": {
    "ExecuteTime": {
     "end_time": "2017-09-08T00:50:25.676060Z",
     "start_time": "2017-09-08T00:50:25.481420Z"
    }
   },
   "outputs": [],
   "source": [
    "df.price = df.price.str.replace('$','')"
   ]
  },
  {
   "cell_type": "code",
   "execution_count": 25,
   "metadata": {
    "ExecuteTime": {
     "end_time": "2017-09-08T00:50:25.882540Z",
     "start_time": "2017-09-08T00:50:25.677937Z"
    },
    "collapsed": true
   },
   "outputs": [],
   "source": [
    "df.price = df.price.str.replace(',', '')"
   ]
  },
  {
   "cell_type": "code",
   "execution_count": 26,
   "metadata": {
    "ExecuteTime": {
     "end_time": "2017-09-08T00:50:26.696910Z",
     "start_time": "2017-09-08T00:50:26.617821Z"
    }
   },
   "outputs": [],
   "source": [
    "def n(x):\n",
    "    if x == 'Price Withheld':\n",
    "        return np.nan\n",
    "    else:\n",
    "        return x\n",
    "\n",
    "df.price = df.price.map(n)"
   ]
  },
  {
   "cell_type": "code",
   "execution_count": 27,
   "metadata": {
    "ExecuteTime": {
     "end_time": "2017-09-08T00:50:26.999905Z",
     "start_time": "2017-09-08T00:50:26.995111Z"
    }
   },
   "outputs": [
    {
     "data": {
      "text/plain": [
       "(393903, 12)"
      ]
     },
     "execution_count": 27,
     "metadata": {},
     "output_type": "execute_result"
    }
   ],
   "source": [
    "df.shape"
   ]
  },
  {
   "cell_type": "code",
   "execution_count": 28,
   "metadata": {
    "ExecuteTime": {
     "end_time": "2017-09-08T00:50:36.166143Z",
     "start_time": "2017-09-08T00:50:35.786541Z"
    }
   },
   "outputs": [
    {
     "data": {
      "text/plain": [
       "(321844, 12)"
      ]
     },
     "execution_count": 28,
     "metadata": {},
     "output_type": "execute_result"
    }
   ],
   "source": [
    "df.dropna(inplace=True)\n",
    "df.shape"
   ]
  },
  {
   "cell_type": "code",
   "execution_count": 31,
   "metadata": {
    "ExecuteTime": {
     "end_time": "2017-09-08T00:52:02.800240Z",
     "start_time": "2017-09-08T00:52:02.484684Z"
    }
   },
   "outputs": [
    {
     "name": "stdout",
     "output_type": "stream",
     "text": [
      "\n"
     ]
    }
   ],
   "source": [
    "def a(x):\n",
    "    l = x.split(' ')\n",
    "    date = l[-3:]\n",
    "    return ' '.join(date)\n",
    "    \n",
    "df.solddate = df.solddate.map(a)"
   ]
  },
  {
   "cell_type": "code",
   "execution_count": 40,
   "metadata": {
    "ExecuteTime": {
     "end_time": "2017-09-08T00:55:25.365604Z",
     "start_time": "2017-09-08T00:55:24.966370Z"
    }
   },
   "outputs": [],
   "source": [
    "def s(x):\n",
    "    l = x.split(' ')\n",
    "    return ' '.join(l[:-2])\n",
    "df['suburb'] = df.address2.map(s)\n",
    "df.drop('address2', axis=1, inplace=True)"
   ]
  },
  {
   "cell_type": "code",
   "execution_count": 50,
   "metadata": {
    "ExecuteTime": {
     "end_time": "2017-09-08T00:58:24.603306Z",
     "start_time": "2017-09-08T00:58:24.496796Z"
    }
   },
   "outputs": [],
   "source": [
    "df.bedrooms = df.bedrooms.str.lstrip()"
   ]
  },
  {
   "cell_type": "code",
   "execution_count": 53,
   "metadata": {
    "ExecuteTime": {
     "end_time": "2017-09-08T00:59:39.417217Z",
     "start_time": "2017-09-08T00:59:39.265539Z"
    }
   },
   "outputs": [],
   "source": [
    "def b(x):\n",
    "    return x.split(' ')[0]\n",
    "\n",
    "df.bedrooms =df.bedrooms.map(b)"
   ]
  },
  {
   "cell_type": "code",
   "execution_count": 55,
   "metadata": {
    "ExecuteTime": {
     "end_time": "2017-09-08T01:00:44.025840Z",
     "start_time": "2017-09-08T01:00:43.788571Z"
    }
   },
   "outputs": [],
   "source": [
    "df.bathrooms = df.bathrooms.str.lstrip()\n",
    "df.bathrooms =df.bathrooms.map(b)"
   ]
  },
  {
   "cell_type": "code",
   "execution_count": 56,
   "metadata": {
    "ExecuteTime": {
     "end_time": "2017-09-08T01:00:55.295156Z",
     "start_time": "2017-09-08T01:00:55.277355Z"
    }
   },
   "outputs": [
    {
     "data": {
      "text/html": [
       "<div>\n",
       "<style>\n",
       "    .dataframe thead tr:only-child th {\n",
       "        text-align: right;\n",
       "    }\n",
       "\n",
       "    .dataframe thead th {\n",
       "        text-align: left;\n",
       "    }\n",
       "\n",
       "    .dataframe tbody tr th {\n",
       "        vertical-align: top;\n",
       "    }\n",
       "</style>\n",
       "<table border=\"1\" class=\"dataframe\">\n",
       "  <thead>\n",
       "    <tr style=\"text-align: right;\">\n",
       "      <th></th>\n",
       "      <th>solddate</th>\n",
       "      <th>price</th>\n",
       "      <th>address1</th>\n",
       "      <th>postcode</th>\n",
       "      <th>latitude</th>\n",
       "      <th>longitude</th>\n",
       "      <th>bedrooms</th>\n",
       "      <th>bathrooms</th>\n",
       "      <th>carparkings</th>\n",
       "      <th>agentbrand</th>\n",
       "      <th>location</th>\n",
       "      <th>suburb</th>\n",
       "    </tr>\n",
       "  </thead>\n",
       "  <tbody>\n",
       "    <tr>\n",
       "      <th>0</th>\n",
       "      <td>08 May 2017</td>\n",
       "      <td>165000</td>\n",
       "      <td>907/268 Flinders Street</td>\n",
       "      <td>3000.0</td>\n",
       "      <td>-37.8177643</td>\n",
       "      <td>144.965652</td>\n",
       "      <td>0</td>\n",
       "      <td>1</td>\n",
       "      <td>0 parkings</td>\n",
       "      <td>Logo for Inner Real Estate NEXTRE</td>\n",
       "      <td>('-37.8177643', '144.965652')</td>\n",
       "      <td>MELBOURNE</td>\n",
       "    </tr>\n",
       "    <tr>\n",
       "      <th>1</th>\n",
       "      <td>11 Mar 2017</td>\n",
       "      <td>187700</td>\n",
       "      <td>7/9-13 Anthony Street</td>\n",
       "      <td>3000.0</td>\n",
       "      <td>-37.80922</td>\n",
       "      <td>144.958939</td>\n",
       "      <td>0</td>\n",
       "      <td>1</td>\n",
       "      <td>0 parkings</td>\n",
       "      <td>Logo for Purplebricks VIC</td>\n",
       "      <td>('-37.80922', '144.958939')</td>\n",
       "      <td>MELBOURNE</td>\n",
       "    </tr>\n",
       "  </tbody>\n",
       "</table>\n",
       "</div>"
      ],
      "text/plain": [
       "      solddate   price                 address1 postcode     latitude  \\\n",
       "0  08 May 2017  165000  907/268 Flinders Street   3000.0  -37.8177643   \n",
       "1  11 Mar 2017  187700    7/9-13 Anthony Street   3000.0    -37.80922   \n",
       "\n",
       "    longitude bedrooms bathrooms  carparkings  \\\n",
       "0  144.965652        0         1   0 parkings   \n",
       "1  144.958939        0         1   0 parkings   \n",
       "\n",
       "                          agentbrand                       location     suburb  \n",
       "0  Logo for Inner Real Estate NEXTRE  ('-37.8177643', '144.965652')  MELBOURNE  \n",
       "1          Logo for Purplebricks VIC    ('-37.80922', '144.958939')  MELBOURNE  "
      ]
     },
     "execution_count": 56,
     "metadata": {},
     "output_type": "execute_result"
    }
   ],
   "source": [
    "df.head(2)"
   ]
  },
  {
   "cell_type": "code",
   "execution_count": 57,
   "metadata": {
    "ExecuteTime": {
     "end_time": "2017-09-08T01:01:07.058335Z",
     "start_time": "2017-09-08T01:01:06.821722Z"
    },
    "collapsed": true
   },
   "outputs": [],
   "source": [
    "df.carparkings = df.carparkings.str.lstrip()\n",
    "df.carparkings =df.carparkings.map(b)"
   ]
  },
  {
   "cell_type": "code",
   "execution_count": 59,
   "metadata": {
    "ExecuteTime": {
     "end_time": "2017-09-08T01:01:22.199222Z",
     "start_time": "2017-09-08T01:01:22.176540Z"
    }
   },
   "outputs": [
    {
     "data": {
      "text/html": [
       "<div>\n",
       "<style>\n",
       "    .dataframe thead tr:only-child th {\n",
       "        text-align: right;\n",
       "    }\n",
       "\n",
       "    .dataframe thead th {\n",
       "        text-align: left;\n",
       "    }\n",
       "\n",
       "    .dataframe tbody tr th {\n",
       "        vertical-align: top;\n",
       "    }\n",
       "</style>\n",
       "<table border=\"1\" class=\"dataframe\">\n",
       "  <thead>\n",
       "    <tr style=\"text-align: right;\">\n",
       "      <th></th>\n",
       "      <th>solddate</th>\n",
       "      <th>price</th>\n",
       "      <th>address1</th>\n",
       "      <th>postcode</th>\n",
       "      <th>latitude</th>\n",
       "      <th>longitude</th>\n",
       "      <th>bedrooms</th>\n",
       "      <th>bathrooms</th>\n",
       "      <th>carparkings</th>\n",
       "      <th>agentbrand</th>\n",
       "      <th>location</th>\n",
       "      <th>suburb</th>\n",
       "    </tr>\n",
       "  </thead>\n",
       "  <tbody>\n",
       "    <tr>\n",
       "      <th>0</th>\n",
       "      <td>08 May 2017</td>\n",
       "      <td>165000</td>\n",
       "      <td>907/268 Flinders Street</td>\n",
       "      <td>3000.0</td>\n",
       "      <td>-37.8177643</td>\n",
       "      <td>144.965652</td>\n",
       "      <td>0</td>\n",
       "      <td>1</td>\n",
       "      <td>0</td>\n",
       "      <td>Logo for Inner Real Estate NEXTRE</td>\n",
       "      <td>('-37.8177643', '144.965652')</td>\n",
       "      <td>MELBOURNE</td>\n",
       "    </tr>\n",
       "    <tr>\n",
       "      <th>1</th>\n",
       "      <td>11 Mar 2017</td>\n",
       "      <td>187700</td>\n",
       "      <td>7/9-13 Anthony Street</td>\n",
       "      <td>3000.0</td>\n",
       "      <td>-37.80922</td>\n",
       "      <td>144.958939</td>\n",
       "      <td>0</td>\n",
       "      <td>1</td>\n",
       "      <td>0</td>\n",
       "      <td>Logo for Purplebricks VIC</td>\n",
       "      <td>('-37.80922', '144.958939')</td>\n",
       "      <td>MELBOURNE</td>\n",
       "    </tr>\n",
       "    <tr>\n",
       "      <th>2</th>\n",
       "      <td>08 Mar 2017</td>\n",
       "      <td>260000</td>\n",
       "      <td>2411/288 Spencer Street</td>\n",
       "      <td>3000.0</td>\n",
       "      <td>-37.8138275</td>\n",
       "      <td>144.952026</td>\n",
       "      <td>0</td>\n",
       "      <td>1</td>\n",
       "      <td>0</td>\n",
       "      <td>Logo for Motion Property</td>\n",
       "      <td>('-37.8138275', '144.952026')</td>\n",
       "      <td>MELBOURNE</td>\n",
       "    </tr>\n",
       "    <tr>\n",
       "      <th>3</th>\n",
       "      <td>01 Dec 2016</td>\n",
       "      <td>162500</td>\n",
       "      <td>609/268 Flinders Street</td>\n",
       "      <td>3000.0</td>\n",
       "      <td>-37.8177643</td>\n",
       "      <td>144.965652</td>\n",
       "      <td>0</td>\n",
       "      <td>1</td>\n",
       "      <td>0</td>\n",
       "      <td>Logo for Inner Real Estate NEXTRE</td>\n",
       "      <td>('-37.8177643', '144.965652')</td>\n",
       "      <td>MELBOURNE</td>\n",
       "    </tr>\n",
       "    <tr>\n",
       "      <th>4</th>\n",
       "      <td>10 Sep 2016</td>\n",
       "      <td>162500</td>\n",
       "      <td>610/268 Flinders Street</td>\n",
       "      <td>3000.0</td>\n",
       "      <td>-37.8177757</td>\n",
       "      <td>144.965546</td>\n",
       "      <td>0</td>\n",
       "      <td>1</td>\n",
       "      <td>0</td>\n",
       "      <td>Logo for Inner Real Estate NEXTRE</td>\n",
       "      <td>('-37.8177757', '144.965546')</td>\n",
       "      <td>MELBOURNE</td>\n",
       "    </tr>\n",
       "  </tbody>\n",
       "</table>\n",
       "</div>"
      ],
      "text/plain": [
       "      solddate   price                 address1 postcode     latitude  \\\n",
       "0  08 May 2017  165000  907/268 Flinders Street   3000.0  -37.8177643   \n",
       "1  11 Mar 2017  187700    7/9-13 Anthony Street   3000.0    -37.80922   \n",
       "2  08 Mar 2017  260000  2411/288 Spencer Street   3000.0  -37.8138275   \n",
       "3  01 Dec 2016  162500  609/268 Flinders Street   3000.0  -37.8177643   \n",
       "4  10 Sep 2016  162500  610/268 Flinders Street   3000.0  -37.8177757   \n",
       "\n",
       "    longitude bedrooms bathrooms carparkings  \\\n",
       "0  144.965652        0         1           0   \n",
       "1  144.958939        0         1           0   \n",
       "2  144.952026        0         1           0   \n",
       "3  144.965652        0         1           0   \n",
       "4  144.965546        0         1           0   \n",
       "\n",
       "                          agentbrand                       location     suburb  \n",
       "0  Logo for Inner Real Estate NEXTRE  ('-37.8177643', '144.965652')  MELBOURNE  \n",
       "1          Logo for Purplebricks VIC    ('-37.80922', '144.958939')  MELBOURNE  \n",
       "2           Logo for Motion Property  ('-37.8138275', '144.952026')  MELBOURNE  \n",
       "3  Logo for Inner Real Estate NEXTRE  ('-37.8177643', '144.965652')  MELBOURNE  \n",
       "4  Logo for Inner Real Estate NEXTRE  ('-37.8177757', '144.965546')  MELBOURNE  "
      ]
     },
     "execution_count": 59,
     "metadata": {},
     "output_type": "execute_result"
    }
   ],
   "source": [
    "df.head()"
   ]
  },
  {
   "cell_type": "code",
   "execution_count": 61,
   "metadata": {
    "ExecuteTime": {
     "end_time": "2017-09-08T01:02:30.601761Z",
     "start_time": "2017-09-08T01:02:30.328195Z"
    }
   },
   "outputs": [],
   "source": [
    "def ag(x):\n",
    "    l = x.split(' ')\n",
    "    return ' '.join(l[2:])\n",
    "df.agentbrand = df.agentbrand.map(ag)"
   ]
  },
  {
   "cell_type": "code",
   "execution_count": 62,
   "metadata": {
    "ExecuteTime": {
     "end_time": "2017-09-08T01:02:35.544943Z",
     "start_time": "2017-09-08T01:02:35.527536Z"
    }
   },
   "outputs": [
    {
     "data": {
      "text/html": [
       "<div>\n",
       "<style>\n",
       "    .dataframe thead tr:only-child th {\n",
       "        text-align: right;\n",
       "    }\n",
       "\n",
       "    .dataframe thead th {\n",
       "        text-align: left;\n",
       "    }\n",
       "\n",
       "    .dataframe tbody tr th {\n",
       "        vertical-align: top;\n",
       "    }\n",
       "</style>\n",
       "<table border=\"1\" class=\"dataframe\">\n",
       "  <thead>\n",
       "    <tr style=\"text-align: right;\">\n",
       "      <th></th>\n",
       "      <th>solddate</th>\n",
       "      <th>price</th>\n",
       "      <th>address1</th>\n",
       "      <th>postcode</th>\n",
       "      <th>latitude</th>\n",
       "      <th>longitude</th>\n",
       "      <th>bedrooms</th>\n",
       "      <th>bathrooms</th>\n",
       "      <th>carparkings</th>\n",
       "      <th>agentbrand</th>\n",
       "      <th>location</th>\n",
       "      <th>suburb</th>\n",
       "    </tr>\n",
       "  </thead>\n",
       "  <tbody>\n",
       "    <tr>\n",
       "      <th>0</th>\n",
       "      <td>08 May 2017</td>\n",
       "      <td>165000</td>\n",
       "      <td>907/268 Flinders Street</td>\n",
       "      <td>3000.0</td>\n",
       "      <td>-37.8177643</td>\n",
       "      <td>144.965652</td>\n",
       "      <td>0</td>\n",
       "      <td>1</td>\n",
       "      <td>0</td>\n",
       "      <td>Inner Real Estate NEXTRE</td>\n",
       "      <td>('-37.8177643', '144.965652')</td>\n",
       "      <td>MELBOURNE</td>\n",
       "    </tr>\n",
       "    <tr>\n",
       "      <th>1</th>\n",
       "      <td>11 Mar 2017</td>\n",
       "      <td>187700</td>\n",
       "      <td>7/9-13 Anthony Street</td>\n",
       "      <td>3000.0</td>\n",
       "      <td>-37.80922</td>\n",
       "      <td>144.958939</td>\n",
       "      <td>0</td>\n",
       "      <td>1</td>\n",
       "      <td>0</td>\n",
       "      <td>Purplebricks VIC</td>\n",
       "      <td>('-37.80922', '144.958939')</td>\n",
       "      <td>MELBOURNE</td>\n",
       "    </tr>\n",
       "  </tbody>\n",
       "</table>\n",
       "</div>"
      ],
      "text/plain": [
       "      solddate   price                 address1 postcode     latitude  \\\n",
       "0  08 May 2017  165000  907/268 Flinders Street   3000.0  -37.8177643   \n",
       "1  11 Mar 2017  187700    7/9-13 Anthony Street   3000.0    -37.80922   \n",
       "\n",
       "    longitude bedrooms bathrooms carparkings                agentbrand  \\\n",
       "0  144.965652        0         1           0  Inner Real Estate NEXTRE   \n",
       "1  144.958939        0         1           0          Purplebricks VIC   \n",
       "\n",
       "                        location     suburb  \n",
       "0  ('-37.8177643', '144.965652')  MELBOURNE  \n",
       "1    ('-37.80922', '144.958939')  MELBOURNE  "
      ]
     },
     "execution_count": 62,
     "metadata": {},
     "output_type": "execute_result"
    }
   ],
   "source": [
    "df.head(2)"
   ]
  },
  {
   "cell_type": "code",
   "execution_count": 63,
   "metadata": {
    "ExecuteTime": {
     "end_time": "2017-09-08T01:02:59.252960Z",
     "start_time": "2017-09-08T01:02:58.116581Z"
    },
    "collapsed": true
   },
   "outputs": [],
   "source": [
    "df.to_csv('h.csv', index=False)"
   ]
  },
  {
   "cell_type": "code",
   "execution_count": null,
   "metadata": {
    "collapsed": true
   },
   "outputs": [],
   "source": []
  }
 ],
 "metadata": {
  "anaconda-cloud": {},
  "kernelspec": {
   "display_name": "Python [default]",
   "language": "python",
   "name": "python2"
  },
  "language_info": {
   "codemirror_mode": {
    "name": "ipython",
    "version": 2
   },
   "file_extension": ".py",
   "mimetype": "text/x-python",
   "name": "python",
   "nbconvert_exporter": "python",
   "pygments_lexer": "ipython2",
   "version": "2.7.13"
  },
  "toc": {
   "colors": {
    "hover_highlight": "#DAA520",
    "navigate_num": "#000000",
    "navigate_text": "#333333",
    "running_highlight": "#FF0000",
    "selected_highlight": "#FFD700",
    "sidebar_border": "#EEEEEE",
    "wrapper_background": "#FFFFFF"
   },
   "moveMenuLeft": true,
   "nav_menu": {
    "height": "84px",
    "width": "252px"
   },
   "navigate_menu": true,
   "number_sections": true,
   "sideBar": true,
   "threshold": 4,
   "toc_cell": false,
   "toc_section_display": "block",
   "toc_window_display": false,
   "widenNotebook": false
  }
 },
 "nbformat": 4,
 "nbformat_minor": 2
}
