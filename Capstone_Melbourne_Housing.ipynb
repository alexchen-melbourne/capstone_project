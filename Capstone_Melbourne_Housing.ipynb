{
 "cells": [
  {
   "cell_type": "markdown",
   "metadata": {
    "nbpresent": {
     "id": "54dd1cc2-f464-45b3-a451-d663539e439a"
    }
   },
   "source": [
    "Load moduls"
   ]
  },
  {
   "cell_type": "code",
   "execution_count": 3,
   "metadata": {
    "ExecuteTime": {
     "end_time": "2017-09-14T23:41:30.054915Z",
     "start_time": "2017-09-14T23:41:30.038981Z"
    },
    "collapsed": true,
    "nbpresent": {
     "id": "e309971a-50ec-4eec-a8c6-0198bcb5ba89"
    }
   },
   "outputs": [],
   "source": [
    "from math import sin, cos, sqrt, atan2, radians\n",
    "import re, string\n",
    "import numpy as np\n",
    "import scipy.stats as stats\n",
    "import pandas as pd\n",
    "\n",
    "import matplotlib.pyplot as plt\n",
    "import seaborn as sns\n",
    "sns.set_style('whitegrid')\n",
    "\n",
    "import warnings; warnings.filterwarnings('ignore')\n",
    "%matplotlib inline\n",
    "%config InlineBackend.figure_format ='retina'"
   ]
  },
  {
   "cell_type": "markdown",
   "metadata": {
    "nbpresent": {
     "id": "4264a393-11c8-4202-a4f8-8d5cbd47208e"
    }
   },
   "source": [
    "# House Data Cleaning"
   ]
  },
  {
   "cell_type": "code",
   "execution_count": 4,
   "metadata": {
    "ExecuteTime": {
     "end_time": "2017-09-14T23:43:44.907058Z",
     "start_time": "2017-09-14T23:43:44.391292Z"
    },
    "collapsed": true,
    "nbpresent": {
     "id": "377da992-36f5-4702-bf56-bc9899c8d813"
    }
   },
   "outputs": [],
   "source": [
    "df = pd.read_csv('data/houses.csv')"
   ]
  },
  {
   "cell_type": "code",
   "execution_count": 5,
   "metadata": {},
   "outputs": [
    {
     "data": {
      "text/html": [
       "<div>\n",
       "<style>\n",
       "    .dataframe thead tr:only-child th {\n",
       "        text-align: right;\n",
       "    }\n",
       "\n",
       "    .dataframe thead th {\n",
       "        text-align: left;\n",
       "    }\n",
       "\n",
       "    .dataframe tbody tr th {\n",
       "        vertical-align: top;\n",
       "    }\n",
       "</style>\n",
       "<table border=\"1\" class=\"dataframe\">\n",
       "  <thead>\n",
       "    <tr style=\"text-align: right;\">\n",
       "      <th></th>\n",
       "      <th>solddate</th>\n",
       "      <th>price</th>\n",
       "      <th>address1</th>\n",
       "      <th>postcode</th>\n",
       "      <th>latitude</th>\n",
       "      <th>longitude</th>\n",
       "      <th>bedrooms</th>\n",
       "      <th>bathrooms</th>\n",
       "      <th>carparkings</th>\n",
       "      <th>agentbrand</th>\n",
       "      <th>location</th>\n",
       "      <th>suburb</th>\n",
       "    </tr>\n",
       "  </thead>\n",
       "  <tbody>\n",
       "    <tr>\n",
       "      <th>0</th>\n",
       "      <td>25-Aug-17</td>\n",
       "      <td>380000</td>\n",
       "      <td>505/7 Katherine Place</td>\n",
       "      <td>3000.0</td>\n",
       "      <td>-37.820240</td>\n",
       "      <td>144.956451</td>\n",
       "      <td>2.0</td>\n",
       "      <td>1</td>\n",
       "      <td>0</td>\n",
       "      <td>City Residential Real Estate</td>\n",
       "      <td>('-37.82024', '144.956451')</td>\n",
       "      <td>MELBOURNE</td>\n",
       "    </tr>\n",
       "    <tr>\n",
       "      <th>1</th>\n",
       "      <td>28-Aug-17</td>\n",
       "      <td>347000</td>\n",
       "      <td>1509/8 Franklin Street</td>\n",
       "      <td>3000.0</td>\n",
       "      <td>-37.807472</td>\n",
       "      <td>144.962021</td>\n",
       "      <td>2.0</td>\n",
       "      <td>1</td>\n",
       "      <td>0</td>\n",
       "      <td>Caine Real Estate</td>\n",
       "      <td>('-37.8074722', '144.962021')</td>\n",
       "      <td>MELBOURNE</td>\n",
       "    </tr>\n",
       "    <tr>\n",
       "      <th>2</th>\n",
       "      <td>26-Aug-17</td>\n",
       "      <td>458000</td>\n",
       "      <td>2107/80 A'Beckett Street</td>\n",
       "      <td>3000.0</td>\n",
       "      <td>-37.809036</td>\n",
       "      <td>144.961090</td>\n",
       "      <td>2.0</td>\n",
       "      <td>1</td>\n",
       "      <td>0</td>\n",
       "      <td>MICM Real Estate</td>\n",
       "      <td>('-37.8090363', '144.96109')</td>\n",
       "      <td>MELBOURNE</td>\n",
       "    </tr>\n",
       "    <tr>\n",
       "      <th>3</th>\n",
       "      <td>24-Aug-17</td>\n",
       "      <td>440000</td>\n",
       "      <td>813/25 Therry Street</td>\n",
       "      <td>3000.0</td>\n",
       "      <td>-37.806942</td>\n",
       "      <td>144.961075</td>\n",
       "      <td>2.0</td>\n",
       "      <td>1</td>\n",
       "      <td>0</td>\n",
       "      <td>Melcorp Property Pty Ltd</td>\n",
       "      <td>('-37.806942', '144.961075')</td>\n",
       "      <td>MELBOURNE</td>\n",
       "    </tr>\n",
       "    <tr>\n",
       "      <th>4</th>\n",
       "      <td>18-Aug-17</td>\n",
       "      <td>550000</td>\n",
       "      <td>2303/568 Collins Street</td>\n",
       "      <td>3000.0</td>\n",
       "      <td>-37.818474</td>\n",
       "      <td>144.955475</td>\n",
       "      <td>2.0</td>\n",
       "      <td>2</td>\n",
       "      <td>0</td>\n",
       "      <td>MICM Real Estate</td>\n",
       "      <td>('-37.8184738', '144.955475')</td>\n",
       "      <td>MELBOURNE</td>\n",
       "    </tr>\n",
       "  </tbody>\n",
       "</table>\n",
       "</div>"
      ],
      "text/plain": [
       "    solddate   price                  address1  postcode   latitude  \\\n",
       "0  25-Aug-17  380000     505/7 Katherine Place    3000.0 -37.820240   \n",
       "1  28-Aug-17  347000    1509/8 Franklin Street    3000.0 -37.807472   \n",
       "2  26-Aug-17  458000  2107/80 A'Beckett Street    3000.0 -37.809036   \n",
       "3  24-Aug-17  440000      813/25 Therry Street    3000.0 -37.806942   \n",
       "4  18-Aug-17  550000   2303/568 Collins Street    3000.0 -37.818474   \n",
       "\n",
       "    longitude  bedrooms bathrooms carparkings                    agentbrand  \\\n",
       "0  144.956451       2.0         1           0  City Residential Real Estate   \n",
       "1  144.962021       2.0         1           0             Caine Real Estate   \n",
       "2  144.961090       2.0         1           0              MICM Real Estate   \n",
       "3  144.961075       2.0         1           0     Melcorp Property Pty Ltd    \n",
       "4  144.955475       2.0         2           0              MICM Real Estate   \n",
       "\n",
       "                        location     suburb  \n",
       "0    ('-37.82024', '144.956451')  MELBOURNE  \n",
       "1  ('-37.8074722', '144.962021')  MELBOURNE  \n",
       "2   ('-37.8090363', '144.96109')  MELBOURNE  \n",
       "3   ('-37.806942', '144.961075')  MELBOURNE  \n",
       "4  ('-37.8184738', '144.955475')  MELBOURNE  "
      ]
     },
     "execution_count": 5,
     "metadata": {},
     "output_type": "execute_result"
    }
   ],
   "source": [
    "df.head()"
   ]
  },
  {
   "cell_type": "code",
   "execution_count": null,
   "metadata": {
    "collapsed": true
   },
   "outputs": [],
   "source": []
  },
  {
   "cell_type": "code",
   "execution_count": null,
   "metadata": {
    "collapsed": true
   },
   "outputs": [],
   "source": []
  },
  {
   "cell_type": "code",
   "execution_count": null,
   "metadata": {
    "collapsed": true
   },
   "outputs": [],
   "source": []
  },
  {
   "cell_type": "code",
   "execution_count": null,
   "metadata": {
    "collapsed": true
   },
   "outputs": [],
   "source": []
  },
  {
   "cell_type": "code",
   "execution_count": null,
   "metadata": {
    "collapsed": true
   },
   "outputs": [],
   "source": []
  },
  {
   "cell_type": "code",
   "execution_count": 4,
   "metadata": {
    "ExecuteTime": {
     "end_time": "2017-09-14T23:46:58.958399Z",
     "start_time": "2017-09-14T23:46:58.524989Z"
    },
    "collapsed": true,
    "nbpresent": {
     "id": "3bdd3767-5ee6-4f48-942b-e3e87fc85c56"
    }
   },
   "outputs": [],
   "source": [
    "df = df[~df.location.isnull()]\n",
    "def calcdist(value):\n",
    "    \n",
    "    slt = value.split('\\'')\n",
    "\n",
    "    lat1 = radians(-37.810817)\n",
    "    lon1 = radians(144.963135)\n",
    "    lat2 = radians(float(slt[1]))\n",
    "    lon2 = radians(float(slt[3]))\n",
    "\n",
    "    dlon = lon2 - lon1\n",
    "    dlat = lat2 - lat1\n",
    "\n",
    "    a = sin(dlat / 2)**2 + cos(lat1) * cos(lat2) * sin(dlon / 2)**2\n",
    "    c = 2 * atan2(sqrt(a), sqrt(1 - a))\n",
    "    \n",
    "    R = 6373.0\n",
    "    distance = R * c\n",
    "\n",
    "    return distance\n",
    "\n",
    "df['dist2cbd'] = df.location.map(calcdist)"
   ]
  },
  {
   "cell_type": "code",
   "execution_count": 5,
   "metadata": {
    "collapsed": true
   },
   "outputs": [],
   "source": [
    "df.bedrooms = df.bedrooms.astype(int)\n",
    "df.bathrooms = df.bathrooms.astype(int)\n",
    "df.carparkings = df.carparkings.astype(int)\n",
    "df.suburb = df.suburb.str.lower()"
   ]
  },
  {
   "cell_type": "code",
   "execution_count": 6,
   "metadata": {
    "nbpresent": {
     "id": "a0b65f9c-ebd7-4f58-a2bd-154f38417dcc"
    }
   },
   "outputs": [
    {
     "name": "stdout",
     "output_type": "stream",
     "text": [
      "(203198, 13)\n",
      "(202512, 13)\n"
     ]
    }
   ],
   "source": [
    "print df.shape\n",
    "df.dropna(inplace=True)\n",
    "df.isnull().sum()\n",
    "print df.shape"
   ]
  },
  {
   "cell_type": "code",
   "execution_count": 7,
   "metadata": {},
   "outputs": [
    {
     "name": "stdout",
     "output_type": "stream",
     "text": [
      "<class 'pandas.core.frame.DataFrame'>\n",
      "Int64Index: 202512 entries, 0 to 203201\n",
      "Data columns (total 13 columns):\n",
      "solddate       202512 non-null object\n",
      "price          202512 non-null int64\n",
      "address1       202512 non-null object\n",
      "postcode       202512 non-null float64\n",
      "latitude       202512 non-null float64\n",
      "longitude      202512 non-null float64\n",
      "bedrooms       202512 non-null int64\n",
      "bathrooms      202512 non-null int64\n",
      "carparkings    202512 non-null int64\n",
      "agentbrand     202512 non-null object\n",
      "location       202512 non-null object\n",
      "suburb         202512 non-null object\n",
      "dist2cbd       202512 non-null float64\n",
      "dtypes: float64(4), int64(4), object(5)\n",
      "memory usage: 21.6+ MB\n"
     ]
    }
   ],
   "source": [
    "df.info()"
   ]
  },
  {
   "cell_type": "code",
   "execution_count": 8,
   "metadata": {},
   "outputs": [
    {
     "data": {
      "text/plain": [
       "array([2, 3])"
      ]
     },
     "execution_count": 8,
     "metadata": {},
     "output_type": "execute_result"
    }
   ],
   "source": [
    "df.bedrooms.unique()"
   ]
  },
  {
   "cell_type": "code",
   "execution_count": 9,
   "metadata": {},
   "outputs": [
    {
     "data": {
      "text/plain": [
       "array([ 1,  2,  3,  4,  0,  5,  6, 11])"
      ]
     },
     "execution_count": 9,
     "metadata": {},
     "output_type": "execute_result"
    }
   ],
   "source": [
    "df.bathrooms.unique()"
   ]
  },
  {
   "cell_type": "code",
   "execution_count": 10,
   "metadata": {},
   "outputs": [
    {
     "data": {
      "text/html": [
       "<div>\n",
       "<style>\n",
       "    .dataframe thead tr:only-child th {\n",
       "        text-align: right;\n",
       "    }\n",
       "\n",
       "    .dataframe thead th {\n",
       "        text-align: left;\n",
       "    }\n",
       "\n",
       "    .dataframe tbody tr th {\n",
       "        vertical-align: top;\n",
       "    }\n",
       "</style>\n",
       "<table border=\"1\" class=\"dataframe\">\n",
       "  <thead>\n",
       "    <tr style=\"text-align: right;\">\n",
       "      <th></th>\n",
       "      <th>solddate</th>\n",
       "      <th>price</th>\n",
       "      <th>address1</th>\n",
       "      <th>postcode</th>\n",
       "      <th>latitude</th>\n",
       "      <th>longitude</th>\n",
       "      <th>bedrooms</th>\n",
       "      <th>bathrooms</th>\n",
       "      <th>carparkings</th>\n",
       "      <th>agentbrand</th>\n",
       "      <th>location</th>\n",
       "      <th>suburb</th>\n",
       "      <th>dist2cbd</th>\n",
       "    </tr>\n",
       "  </thead>\n",
       "  <tbody>\n",
       "    <tr>\n",
       "      <th>168627</th>\n",
       "      <td>21-Sep-14</td>\n",
       "      <td>282000</td>\n",
       "      <td>32 Murdoch Court</td>\n",
       "      <td>3429.0</td>\n",
       "      <td>-37.576263</td>\n",
       "      <td>144.758972</td>\n",
       "      <td>3</td>\n",
       "      <td>11</td>\n",
       "      <td>0</td>\n",
       "      <td>Melbourne Estate Agents Roxburgh Park</td>\n",
       "      <td>('-37.5762634', '144.758972')</td>\n",
       "      <td>sunbury</td>\n",
       "      <td>31.678939</td>\n",
       "    </tr>\n",
       "  </tbody>\n",
       "</table>\n",
       "</div>"
      ],
      "text/plain": [
       "         solddate   price          address1  postcode   latitude   longitude  \\\n",
       "168627  21-Sep-14  282000  32 Murdoch Court    3429.0 -37.576263  144.758972   \n",
       "\n",
       "        bedrooms  bathrooms  carparkings  \\\n",
       "168627         3         11            0   \n",
       "\n",
       "                                   agentbrand                       location  \\\n",
       "168627  Melbourne Estate Agents Roxburgh Park  ('-37.5762634', '144.758972')   \n",
       "\n",
       "         suburb   dist2cbd  \n",
       "168627  sunbury  31.678939  "
      ]
     },
     "execution_count": 10,
     "metadata": {},
     "output_type": "execute_result"
    }
   ],
   "source": [
    "df[df.bathrooms > 10]"
   ]
  },
  {
   "cell_type": "code",
   "execution_count": 11,
   "metadata": {
    "collapsed": true
   },
   "outputs": [],
   "source": [
    "df.drop(168627, axis=0, inplace=True)"
   ]
  },
  {
   "cell_type": "code",
   "execution_count": 12,
   "metadata": {},
   "outputs": [
    {
     "data": {
      "text/plain": [
       "array([ 0,  1,  2,  3,  4, 20,  6, 12,  5,  8,  7, 10,  9, 15, 13, 11, 16,\n",
       "       32, 14, 23, 17])"
      ]
     },
     "execution_count": 12,
     "metadata": {},
     "output_type": "execute_result"
    }
   ],
   "source": [
    "df.carparkings.unique()"
   ]
  },
  {
   "cell_type": "code",
   "execution_count": 13,
   "metadata": {
    "collapsed": true
   },
   "outputs": [],
   "source": [
    "df = df[~(df.carparkings > 4)]"
   ]
  },
  {
   "cell_type": "code",
   "execution_count": 14,
   "metadata": {},
   "outputs": [
    {
     "data": {
      "text/plain": [
       "(199795, 13)"
      ]
     },
     "execution_count": 14,
     "metadata": {},
     "output_type": "execute_result"
    }
   ],
   "source": [
    "df.shape"
   ]
  },
  {
   "cell_type": "code",
   "execution_count": 15,
   "metadata": {},
   "outputs": [
    {
     "data": {
      "text/plain": [
       "(199691, 13)"
      ]
     },
     "execution_count": 15,
     "metadata": {},
     "output_type": "execute_result"
    }
   ],
   "source": [
    "df = df[~(df.price > 4000000)]\n",
    "df.shape"
   ]
  },
  {
   "cell_type": "markdown",
   "metadata": {
    "nbpresent": {
     "id": "7b92b49a-860b-4786-a826-25ceefec951f"
    }
   },
   "source": [
    "# EDA"
   ]
  },
  {
   "cell_type": "markdown",
   "metadata": {},
   "source": [
    "## ALL"
   ]
  },
  {
   "cell_type": "code",
   "execution_count": 16,
   "metadata": {},
   "outputs": [
    {
     "data": {
      "text/plain": [
       "<matplotlib.axes._subplots.AxesSubplot at 0x115892350>"
      ]
     },
     "execution_count": 16,
     "metadata": {},
     "output_type": "execute_result"
    },
    {
     "data": {
      "image/png": "[encoded data removed]",
      "text/plain": [
       "<matplotlib.figure.Figure at 0x1161d7d10>"
      ]
     },
     "metadata": {
      "image/png": {
       "height": 290,
       "width": 393
      }
     },
     "output_type": "display_data"
    }
   ],
   "source": [
    "sns.heatmap(df.corr(), annot=True)"
   ]
  },
  {
   "cell_type": "markdown",
   "metadata": {},
   "source": [
    "## Chosen"
   ]
  },
  {
   "cell_type": "code",
   "execution_count": 17,
   "metadata": {
    "ExecuteTime": {
     "end_time": "2017-09-15T01:04:39.205651Z",
     "start_time": "2017-09-15T01:04:39.126644Z"
    },
    "collapsed": true,
    "nbpresent": {
     "id": "41d2b419-f65b-4dfe-b7c7-3a2eafe1cf91"
    }
   },
   "outputs": [],
   "source": [
    "choose_sub = ['yarraville', 'newport', 'spotswood', 'kensington',\n",
    "              'ascot vale', 'moonee ponds', 'coburg', 'clifton hill',\n",
    "              'northcote', 'malvern east', 'glen iris', 'elsternwick',\n",
    "              'ormond']\n",
    "\n",
    "def ch(x):\n",
    "    if x in choose_sub:\n",
    "        return True\n",
    "    else:\n",
    "        return False\n",
    "    \n",
    "ch = df[df.suburb.map(ch)]"
   ]
  },
  {
   "cell_type": "code",
   "execution_count": 18,
   "metadata": {
    "ExecuteTime": {
     "end_time": "2017-09-15T01:04:48.065609Z",
     "start_time": "2017-09-15T01:04:48.060755Z"
    },
    "nbpresent": {
     "id": "75dc905a-98cb-44ab-99c7-f1a71b755e1d"
    }
   },
   "outputs": [
    {
     "data": {
      "text/plain": [
       "array(['yarraville', 'newport', 'spotswood', 'kensington', 'ascot vale',\n",
       "       'moonee ponds', 'coburg', 'clifton hill', 'northcote',\n",
       "       'malvern east', 'glen iris', 'elsternwick', 'ormond'], dtype=object)"
      ]
     },
     "execution_count": 18,
     "metadata": {},
     "output_type": "execute_result"
    }
   ],
   "source": [
    "ch.suburb.unique()"
   ]
  },
  {
   "cell_type": "code",
   "execution_count": 19,
   "metadata": {
    "ExecuteTime": {
     "end_time": "2017-09-15T01:06:55.146700Z",
     "start_time": "2017-09-15T01:06:55.142040Z"
    },
    "collapsed": true,
    "nbpresent": {
     "id": "81e35615-79dc-408d-894f-1fd43626eb86"
    }
   },
   "outputs": [],
   "source": [
    "c = ch.drop(['postcode', 'latitude', 'longitude', 'location'], axis=1)\n",
    "\n",
    "# pd.to_datetime(c.solddate)\n",
    "def qw(x):\n",
    "    try:\n",
    "        s = x.split('-')\n",
    "        month = s[1]\n",
    "        return True\n",
    "    except:\n",
    "        return False\n",
    "c = c[c.solddate.map(qw)]\n",
    "\n",
    "c.solddate = pd.to_datetime(c.solddate)\n",
    "c.solddate = c.solddate.map(lambda x: x.strftime('%Y-%m'))"
   ]
  },
  {
   "cell_type": "code",
   "execution_count": 20,
   "metadata": {
    "ExecuteTime": {
     "end_time": "2017-09-15T01:41:13.179329Z",
     "start_time": "2017-09-15T01:41:11.778009Z"
    },
    "collapsed": true,
    "nbpresent": {
     "id": "6827993a-9473-43d2-a406-755392a78fe6"
    }
   },
   "outputs": [],
   "source": [
    "# c.groupby(by='solddate').count()['price'][56:-1].plot(kind='bar', figsize=(20,10))"
   ]
  },
  {
   "cell_type": "code",
   "execution_count": 21,
   "metadata": {
    "ExecuteTime": {
     "end_time": "2017-09-15T01:45:36.913097Z",
     "start_time": "2017-09-15T01:45:36.908558Z"
    },
    "collapsed": true,
    "nbpresent": {
     "id": "59eba4e5-88ba-4160-9e34-476371371fa0"
    }
   },
   "outputs": [],
   "source": [
    "# outliers \n",
    "c = c[~(c.price > 4000000)]"
   ]
  },
  {
   "cell_type": "code",
   "execution_count": 22,
   "metadata": {
    "ExecuteTime": {
     "end_time": "2017-09-15T01:57:19.173589Z",
     "start_time": "2017-09-15T01:57:18.284652Z"
    },
    "nbpresent": {
     "id": "696da14c-d5aa-4a47-9d8e-26069a560fcf"
    }
   },
   "outputs": [
    {
     "data": {
      "text/plain": [
       "<matplotlib.figure.Figure at 0x1166d1490>"
      ]
     },
     "metadata": {},
     "output_type": "display_data"
    }
   ],
   "source": [
    "me = c.price.median()\n",
    "ma = c.price.mean()\n",
    "plt.figure(figsize=(18,10))\n",
    "\n",
    "font = {'family': 'serif',\n",
    "        'color':  'darkred',\n",
    "        'weight': 'normal',\n",
    "        'size': 16,\n",
    "        }\n",
    "# plt.text(2500000, 0.00000125, s='Median '+str(me), fontsize=30, fontdict={'color':'red'})\n",
    "# plt.text(2500000, 0.00000105, s='Mean  '+str(round(ma)), fontsize=30, fontdict={'color':'blue'})\n",
    "\n",
    "# plt.plot([me, me], [0, 0.00000165], 'r-', lw=3)\n",
    "# plt.plot([ma, ma], [0, 0.00000165], 'b-', lw=3)\n",
    "# sns.distplot(c.price)"
   ]
  },
  {
   "cell_type": "code",
   "execution_count": 23,
   "metadata": {
    "ExecuteTime": {
     "end_time": "2017-09-15T02:08:46.963623Z",
     "start_time": "2017-09-15T02:08:46.898529Z"
    },
    "collapsed": true,
    "nbpresent": {
     "id": "a6d437b3-e719-4cf2-a716-437ac94b707d"
    }
   },
   "outputs": [],
   "source": [
    "# c.groupby(by='agentbrand').count().sort_values(by='price', ascending=False)"
   ]
  },
  {
   "cell_type": "code",
   "execution_count": 24,
   "metadata": {
    "ExecuteTime": {
     "end_time": "2017-09-15T02:16:51.832939Z",
     "start_time": "2017-09-15T02:16:50.939193Z"
    },
    "collapsed": true,
    "nbpresent": {
     "id": "7fd2fe9e-c035-4717-a5ad-876122c71e60"
    }
   },
   "outputs": [],
   "source": [
    "c.bathrooms = c.bathrooms.astype(int)\n",
    "c.carparkings = c.carparkings.astype(int)\n",
    "corr = c[['bedrooms', 'bathrooms', 'carparkings', 'dist2cbd', 'price']].corr()\n",
    "# sns.heatmap(corr, annot=True)"
   ]
  },
  {
   "cell_type": "markdown",
   "metadata": {
    "collapsed": true,
    "nbpresent": {
     "id": "c5cefa17-749a-4d18-81e1-93b9a3d9b317"
    }
   },
   "source": [
    "# Model"
   ]
  },
  {
   "cell_type": "code",
   "execution_count": 25,
   "metadata": {
    "collapsed": true,
    "nbpresent": {
     "id": "70f4341a-0e47-451d-86b7-cbf1e6e00040"
    }
   },
   "outputs": [],
   "source": [
    "data = df.copy()\n",
    "data.drop(['latitude', 'longitude', 'location', 'postcode'], axis=1, inplace=True)\n",
    "data.drop(19517, axis=0, inplace=True)"
   ]
  },
  {
   "cell_type": "code",
   "execution_count": 26,
   "metadata": {
    "collapsed": true,
    "nbpresent": {
     "id": "7e26b481-f1e2-4473-9b59-16e597698095"
    },
    "scrolled": false
   },
   "outputs": [],
   "source": [
    "def getStreetName(x):\n",
    "    result = ''.join([i for i in x if not i.isdigit()])\n",
    "    result = re.sub(r'[^\\w]', ' ', result)\n",
    "    result = ' '.join([x for x in result.split() if len(x) != 1])\n",
    "    return result.lower()\n",
    "\n",
    "data.address1 = data.address1.map(getStreetName)"
   ]
  },
  {
   "cell_type": "code",
   "execution_count": 27,
   "metadata": {
    "nbpresent": {
     "id": "295e33e4-f9ea-4ba9-b2ec-7e515517521a"
    }
   },
   "outputs": [
    {
     "data": {
      "text/plain": [
       "(199690, 9)"
      ]
     },
     "execution_count": 27,
     "metadata": {},
     "output_type": "execute_result"
    }
   ],
   "source": [
    "data.shape"
   ]
  },
  {
   "cell_type": "code",
   "execution_count": 28,
   "metadata": {
    "collapsed": true,
    "nbpresent": {
     "id": "055af6c8-dd82-499e-b71f-f178f7f45db2"
    }
   },
   "outputs": [],
   "source": [
    "suburb = pd.read_csv('data/suburb_region.csv')\n",
    "suburb.columns = ['suburb', 'post', 'region']\n",
    "suburb.suburb = suburb.suburb.str.lower()\n",
    "suburb.suburb = suburb.suburb.str.strip()"
   ]
  },
  {
   "cell_type": "code",
   "execution_count": 29,
   "metadata": {
    "collapsed": true,
    "nbpresent": {
     "id": "7334714d-caa7-422e-97b7-b3784b530e97"
    }
   },
   "outputs": [],
   "source": [
    "data = pd.merge(data, suburb, on='suburb', how='left')\n",
    "data.drop('post', axis=1, inplace=True)\n",
    "data.drop_duplicates(inplace=True)\n",
    "data.dropna(inplace=True)"
   ]
  },
  {
   "cell_type": "code",
   "execution_count": 30,
   "metadata": {
    "nbpresent": {
     "id": "3154669b-2acf-4cfc-87e1-d048742a81bb"
    }
   },
   "outputs": [
    {
     "data": {
      "text/plain": [
       "485"
      ]
     },
     "execution_count": 30,
     "metadata": {},
     "output_type": "execute_result"
    }
   ],
   "source": [
    "data.suburb.nunique()"
   ]
  },
  {
   "cell_type": "code",
   "execution_count": 31,
   "metadata": {
    "nbpresent": {
     "id": "14965815-737a-4494-922c-267b2a2d96f1"
    }
   },
   "outputs": [
    {
     "data": {
      "text/plain": [
       "(162069, 10)"
      ]
     },
     "execution_count": 31,
     "metadata": {},
     "output_type": "execute_result"
    }
   ],
   "source": [
    "data.shape"
   ]
  },
  {
   "cell_type": "code",
   "execution_count": 32,
   "metadata": {},
   "outputs": [
    {
     "data": {
      "text/plain": [
       "(156753, 10)"
      ]
     },
     "execution_count": 32,
     "metadata": {},
     "output_type": "execute_result"
    }
   ],
   "source": [
    "data = data[~(data.region == 'Geelong')]\n",
    "data.shape"
   ]
  },
  {
   "cell_type": "code",
   "execution_count": 94,
   "metadata": {
    "collapsed": true
   },
   "outputs": [],
   "source": [
    "#data[(data.bedrooms == 2) & (data.bathrooms == 1) & (data.carparkings == 1) & (data.region == 'Southeastern')]"
   ]
  },
  {
   "cell_type": "code",
   "execution_count": 34,
   "metadata": {
    "collapsed": true,
    "nbpresent": {
     "id": "7fba77f1-6234-4e07-bcf4-242e5bcd5e89"
    }
   },
   "outputs": [],
   "source": [
    "suburb_dummies = pd.get_dummies(data.suburb, drop_first=True)\n",
    "region_dummies = pd.get_dummies(data.region, drop_first=True)\n",
    "street_dummies = pd.get_dummies(data.address1, drop_first=True)"
   ]
  },
  {
   "cell_type": "markdown",
   "metadata": {},
   "source": [
    "## Linear Reg"
   ]
  },
  {
   "cell_type": "code",
   "execution_count": 35,
   "metadata": {
    "collapsed": true,
    "nbpresent": {
     "id": "76f281ef-c71d-4afd-8890-ec4d9a142b02"
    }
   },
   "outputs": [],
   "source": [
    "from sklearn.linear_model import LinearRegression\n",
    "from sklearn.preprocessing import StandardScaler\n",
    "from sklearn.model_selection import train_test_split, cross_val_score"
   ]
  },
  {
   "cell_type": "markdown",
   "metadata": {},
   "source": [
    "### Bed, bath, park, dist"
   ]
  },
  {
   "cell_type": "code",
   "execution_count": 36,
   "metadata": {},
   "outputs": [
    {
     "data": {
      "text/plain": [
       "array([ 0.21275334,  0.21214686,  0.20225148,  0.1971105 ,  0.20542909])"
      ]
     },
     "execution_count": 36,
     "metadata": {},
     "output_type": "execute_result"
    }
   ],
   "source": [
    "X = data[['bedrooms', 'bathrooms', 'carparkings', 'dist2cbd']]\n",
    "y = data.price.values\n",
    "\n",
    "ss = StandardScaler()\n",
    "Xs = ss.fit_transform(X)\n",
    "x_train, x_test, y_train, y_test = train_test_split(Xs, y, test_size=0.33, random_state=6)\n",
    "\n",
    "lr = LinearRegression()\n",
    "model = lr.fit(x_train, y_train)\n",
    "cross_val_score(model, x_test, y_test, cv=5)"
   ]
  },
  {
   "cell_type": "markdown",
   "metadata": {},
   "source": [
    "### + region"
   ]
  },
  {
   "cell_type": "code",
   "execution_count": 53,
   "metadata": {},
   "outputs": [
    {
     "data": {
      "text/plain": [
       "array([ 0.36017512,  0.35851361,  0.35010256,  0.34317336,  0.36002768])"
      ]
     },
     "execution_count": 53,
     "metadata": {},
     "output_type": "execute_result"
    }
   ],
   "source": [
    "X = pd.concat([region_dummies, \n",
    "               data[['bedrooms', 'bathrooms', 'carparkings', 'dist2cbd']]], \n",
    "               axis=1)\n",
    "y = data.price.values\n",
    "\n",
    "ss = StandardScaler()\n",
    "Xs = ss.fit_transform(X)\n",
    "x_train, x_test, y_train, y_test = train_test_split(Xs, y, test_size=0.33, random_state=6)\n",
    "\n",
    "lr = LinearRegression()\n",
    "model = lr.fit(x_train, y_train)\n",
    "cross_val_score(model, x_test, y_test, cv=5)"
   ]
  },
  {
   "cell_type": "code",
   "execution_count": 57,
   "metadata": {
    "collapsed": true
   },
   "outputs": [],
   "source": [
    "result = pd.DataFrame([y, model.predict(Xs)]).T"
   ]
  },
  {
   "cell_type": "code",
   "execution_count": 61,
   "metadata": {
    "collapsed": true
   },
   "outputs": [],
   "source": [
    "result['res'] = result[0] - result[1].astype(int)"
   ]
  },
  {
   "cell_type": "markdown",
   "metadata": {},
   "source": [
    "### + suburb"
   ]
  },
  {
   "cell_type": "code",
   "execution_count": 76,
   "metadata": {
    "collapsed": true
   },
   "outputs": [],
   "source": [
    "data_sub = data[data.region == 'Inner']\n",
    "suburb_dummies = pd.get_dummies(data_sub.suburb, drop_first=True)"
   ]
  },
  {
   "cell_type": "code",
   "execution_count": 77,
   "metadata": {},
   "outputs": [
    {
     "data": {
      "text/plain": [
       "0.38258502220993612"
      ]
     },
     "execution_count": 77,
     "metadata": {},
     "output_type": "execute_result"
    }
   ],
   "source": [
    "X = pd.concat([suburb_dummies, \n",
    "               data_sub[['bedrooms', 'bathrooms', 'carparkings', 'dist2cbd']]], \n",
    "               axis=1)\n",
    "y = data_sub.price.values\n",
    "\n",
    "ss = StandardScaler()\n",
    "Xs = ss.fit_transform(X)\n",
    "x_train, x_test, y_train, y_test = train_test_split(Xs, y, test_size=0.33, random_state=6)\n",
    "\n",
    "lr = LinearRegression()\n",
    "model = lr.fit(x_train, y_train)\n",
    "np.mean(cross_val_score(model, x_test, y_test, cv=5))"
   ]
  },
  {
   "cell_type": "code",
   "execution_count": 70,
   "metadata": {},
   "outputs": [
    {
     "data": {
      "text/plain": [
       "(17544, 37)"
      ]
     },
     "execution_count": 70,
     "metadata": {},
     "output_type": "execute_result"
    }
   ],
   "source": [
    "X.shape"
   ]
  },
  {
   "cell_type": "markdown",
   "metadata": {},
   "source": [
    "## Street"
   ]
  },
  {
   "cell_type": "code",
   "execution_count": 104,
   "metadata": {},
   "outputs": [
    {
     "data": {
      "text/plain": [
       "-3.3726505700967822e+26"
      ]
     },
     "execution_count": 104,
     "metadata": {},
     "output_type": "execute_result"
    }
   ],
   "source": [
    "def test_suburb(sub):\n",
    "    d = data[data.suburb == sub]\n",
    "    street = pd.get_dummies(d.address1, drop_first=True)\n",
    "    X = pd.concat([street, d[['bedrooms', 'bathrooms', 'carparkings']]], axis=1)\n",
    "    y = d.price.values\n",
    "    \n",
    "    ss = StandardScaler()\n",
    "    Xs = ss.fit_transform(X)\n",
    "    x_train, x_test, y_train, y_test = train_test_split(Xs, y, test_size=0.33, random_state=6)\n",
    "\n",
    "    lr = LinearRegression()\n",
    "    model = lr.fit(x_train, y_train)\n",
    "    return np.mean(cross_val_score(model, x_test, y_test, cv=5))\n",
    "\n",
    "# for s in data.suburb.unique():\n",
    "#     data_s = data[data.suburb == s]\n",
    "#     if data_s.shape[0] > 1000:\n",
    "#         print s\n",
    "        \n",
    "test_suburb('southbank')"
   ]
  },
  {
   "cell_type": "code",
   "execution_count": null,
   "metadata": {
    "collapsed": true
   },
   "outputs": [],
   "source": []
  },
  {
   "cell_type": "markdown",
   "metadata": {},
   "source": [
    "## PCA"
   ]
  },
  {
   "cell_type": "code",
   "execution_count": null,
   "metadata": {
    "collapsed": true,
    "nbpresent": {
     "id": "3f439492-6c6d-4b25-b02d-fbcaf1a8f247"
    }
   },
   "outputs": [],
   "source": [
    "from sklearn.decomposition import PCA"
   ]
  },
  {
   "cell_type": "code",
   "execution_count": 1,
   "metadata": {
    "nbpresent": {
     "id": "a9092bdd-16cd-4d1e-950f-c0b7629134f2"
    }
   },
   "outputs": [
    {
     "ename": "NameError",
     "evalue": "name 'data' is not defined",
     "output_type": "error",
     "traceback": [
      "\u001b[0;31m---------------------------------------------------------------------------\u001b[0m",
      "\u001b[0;31mNameError\u001b[0m                                 Traceback (most recent call last)",
      "\u001b[0;32m<ipython-input-1-6137cde4893c>\u001b[0m in \u001b[0;36m<module>\u001b[0;34m()\u001b[0m\n\u001b[0;32m----> 1\u001b[0;31m \u001b[0mdata\u001b[0m\u001b[0;34m\u001b[0m\u001b[0m\n\u001b[0m",
      "\u001b[0;31mNameError\u001b[0m: name 'data' is not defined"
     ]
    }
   ],
   "source": [
    "data"
   ]
  },
  {
   "cell_type": "code",
   "execution_count": null,
   "metadata": {
    "collapsed": true
   },
   "outputs": [],
   "source": []
  }
 ],
 "metadata": {
  "anaconda-cloud": {},
  "kernelspec": {
   "display_name": "Python [default]",
   "language": "python",
   "name": "python2"
  },
  "language_info": {
   "codemirror_mode": {
    "name": "ipython",
    "version": 2
   },
   "file_extension": ".py",
   "mimetype": "text/x-python",
   "name": "python",
   "nbconvert_exporter": "python",
   "pygments_lexer": "ipython2",
   "version": "2.7.13"
  },
  "toc": {
   "nav_menu": {
    "height": "84px",
    "width": "252px"
   },
   "number_sections": true,
   "sideBar": true,
   "skip_h1_title": false,
   "toc_cell": false,
   "toc_position": {},
   "toc_section_display": "block",
   "toc_window_display": true
  }
 },
 "nbformat": 4,
 "nbformat_minor": 2
}
