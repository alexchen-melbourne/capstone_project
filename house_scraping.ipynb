{
 "cells": [
  {
   "cell_type": "code",
   "execution_count": 190,
   "metadata": {
    "collapsed": true
   },
   "outputs": [],
   "source": [
    "from bs4 import BeautifulSoup as Soup\n",
    "import csv, requests, time\n",
    "import couchdb"
   ]
  },
  {
   "cell_type": "code",
   "execution_count": 187,
   "metadata": {
    "collapsed": true
   },
   "outputs": [],
   "source": [
    "def scrape_one_page(url):\n",
    "    result = {}\n",
    "    with requests.Session() as session:\n",
    "        response = session.post(url, data={'start':0})\n",
    "        soup = Soup(response.content, 'lxml')\n",
    "        \n",
    "        # left wrap\n",
    "        left = soup.find('div', class_='left-wrap')\n",
    "        \n",
    "        result['date'] = left.find('span', class_='status-label label-sold').text.strip().encode('ascii','ignore')\n",
    "        result['address'] = left.find('h1').text.strip().encode('ascii','ignore')\n",
    "        result['price'] = left.find('span', class_='h4 pricedisplay truncate-single').text.strip().encode('ascii','ignore')\n",
    "        \n",
    "        # right wrap\n",
    "        right = soup.find('div', class_='listing-features alt').text\n",
    "        result['bed'] = right.split()[0].encode('ascii','ignore')\n",
    "        result['bath'] = right.split()[2].encode('ascii','ignore')\n",
    "        result['park'] = right.split()[4].encode('ascii','ignore')\n",
    "        \n",
    "        # land\n",
    "        try:\n",
    "            result['landsize'] = soup.find('ul', class_='list-horizontal details cfix ').text.strip().encode('ascii','ignore')\n",
    "        except:\n",
    "            result['landsize'] = None\n",
    "        \n",
    "        # title\n",
    "        result['title'] = soup.find('h4', class_='h5 lowlight').text.encode('ascii','ignore')\n",
    "        \n",
    "        # description\n",
    "        des = soup.find('div', id='description')\n",
    "        descriptions = des.find('pre').text.split('\\n')\n",
    "        descrip = ''\n",
    "        for d in descriptions:\n",
    "            if ':' in d:\n",
    "                try:\n",
    "                    ele = d.split(': ')\n",
    "                    result[ele[0].encode('ascii','ignore')] = ele[1].encode('ascii','ignore')\n",
    "                except:\n",
    "                    continue\n",
    "            else:\n",
    "                descrip += d\n",
    "        result['description'] = descrip.encode('ascii','ignore')\n",
    "        \n",
    "        # feature\n",
    "        feature = soup.find_all('ul', class_='list-vertical')\n",
    "        for f in feature:\n",
    "            try:\n",
    "                result['property_type'] = f.find('strong').text.encode('ascii','ignore')\n",
    "            except:\n",
    "                result['features'] = f.text.encode('ascii','ignore').strip().split('\\n')\n",
    "        \n",
    "    return result"
   ]
  },
  {
   "cell_type": "code",
   "execution_count": 228,
   "metadata": {
    "scrolled": false
   },
   "outputs": [
    {
     "name": "stdout",
     "output_type": "stream",
     "text": [
      "['Carlton-vic-3053', 'Carlton-North-vic-3054', 'Docklands-vic-3008', 'East-Melbourne-vic-3002', 'Flemington-vic-3031', 'Kensington-vic-3031', 'Melbourne-vic-3000', 'Melbourne-vic-3004', 'North-Melbourne-vic-3051', 'Parkville-vic-3052', 'Port-Melbourne-vic-3207', 'Southbank-vic-3006', 'South-Wharf-vic-3006', 'South-Yarra-vic-3141', 'West-Melbourne-vic-3003', 'Albert-Park-vic-3206', 'Balaclava-vic-3183', 'Elwood-vic-3184', 'Melbourne-vic-3004', 'Middle-Park-vic-3206', 'Port-Melbourne-vic-3207', 'Ripponlea-vic-3185', 'St-Kilda-vic-3182', 'St-Kilda-East-vic-3183', 'St-Kilda-West-vic-3182', 'Southbank-vic-3006', 'South-Melbourne-vic-3205', 'South-Wharf-vic-3006', 'Abbotsford-vic-3067', 'Alphington-vic-3078', 'Burnley-vic-3121', 'Carlton-North-vic-3054', 'Clifton-Hill-vic-3068', 'Collingwood-vic-3066', 'Cremorne-vic-3121', 'Fairfield-vic-3078', 'Fitzroy-vic-3065', 'Fitzroy-North-vic-3068', 'Princes-Hill-vic-3054', 'Richmond-vic-3121', 'Bellfield-vic-3081', 'Briar-Hill-vic-3088', 'Bundoora-vic-3083', 'Eaglemont-vic-3084', 'Eltham-vic-3095', 'Eltham-North-vic-3095', 'Greensborough-vic-3088', 'Heidelberg-vic-3084', 'Heidelberg-Heights-vic-3081', 'Heidelberg-West-vic-3081', 'Ivanhoe-vic-3079', 'Ivanhoe-East-vic-3079', 'Lower-Plenty-vic-3093', 'Macleod-vic-3085', 'Montmorency-vic-3094', 'Rosanna-vic-3084', 'St-Helena-vic-3088', 'Viewbank-vic-3084', 'Watsonia-vic-3087', 'Watsonia-North-vic-3087', 'Yallambie-vic-3085', 'Alphington-vic-3078', 'Bundoora-vic-3083', 'Fairfield-vic-3078', 'Kingsbury-vic-3083', 'Macleod-vic-3085', 'Northcote-vic-3070', 'Preston-vic-3072', 'Reservoir-vic-3073', 'Thornbury-vic-3071', 'Attwood-vic-3049', 'Broadmeadows-vic-3047', 'Campbellfield-vic-3061', 'Coolaroo-vic-3048', 'Craigieburn-vic-3064', 'Dallas-vic-3047', 'Gladstone-Park-vic-3043', 'Greenvale-vic-3059', 'Jacana-vic-3047', 'Keilor-vic-3036', 'Meadow-Heights-vic-3048', 'Melbourne-Airport-vic-3045', 'Roxburgh-Park-vic-3064', 'Somerton-vic-3062', 'Tullamarine-vic-3043', 'Westmeadows-vic-3049', 'Sunbury-vic-3429', 'Bulla-vic-3428', 'Clarkefield-vic-3430', 'Diggers-Rest-vic-3427', 'Kalkallo-vic-3064', 'Mickleham-vic-3064', 'Oaklands-Junction-vic-3063', 'Wildwood-vic-3429', 'Yuroke-vic-3063', 'Aberfeldie-vic-3040', 'Airport-West-vic-3042', 'Ascot-Vale-vic-3032', 'Avondale-Heights-vic-3034', 'Essendon-vic-3040', 'Essendon-Fields-vic-3041', 'Essendon-North-vic-3041', 'Essendon-West-vic-3040', 'Flemington-vic-3031', 'Keilor-East-vic-3033', 'Moonee-Ponds-vic-3039', 'Niddrie-vic-3042', 'Strathmore-vic-3041', 'Strathmore-Heights-vic-3041', 'Travancore-vic-3032', 'Brunswick-vic-3056', 'Brunswick-East-vic-3057', 'Brunswick-West-vic-3055', 'Coburg-vic-3058', 'Coburg-North-vic-3058', 'Fawkner-vic-3060', 'Glenroy-vic-3046', 'Gowanbrae-vic-3043', 'Hadfield-vic-3046', 'Oak-Park-vic-3046', 'Pascoe-Vale-vic-3044', 'Pascoe-Vale-South-vic-3044', 'Tullamarine-vic-3043', 'Diamond-Creek-vic-3089', 'Eltham-vic-3095', 'Eltham-North-vic-3095', 'Greensborough-vic-3088', 'Hurstbridge-vic-3099', 'North-Warrandyte-vic-3113', 'Research-vic-3095', 'Wattle-Glen-vic-3096', 'Bend-of-Islands-vic-3097', 'Christmas-Hills-vic-3775', 'Cottles-Bridge-vic-3099', 'Doreen-vic-3754', 'Kangaroo-Ground-vic-3097', 'Kinglake-vic-3763', 'Bylands-vic-3762', 'Kinglake-West-vic-3778', 'Nutfield-vic-3099', 'Panton-Hill-vic-3759', 'Plenty-vic-3090', 'St-Andrews-vic-3761', 'Smiths-Gully-vic-3760', 'Strathewen-vic-3099', 'Watsons-Creek-vic-3097', 'Yan-Yean-vic-3755', 'Yarrambat-vic-3091', 'Bundoora-vic-3083', 'Doreen-vic-3754', 'Epping-vic-3076', 'Lalor-vic-3075', 'Mernda-vic-3754', 'Mill-Park-vic-3082', 'South-Morang-vic-3752', 'Thomastown-vic-3074', 'Beveridge-vic-3753', 'Donnybrook-vic-3064', 'Eden-Park-vic-3757', 'Humevale-vic-3757', 'Kinglake-West-vic-3778', 'Whittlesea-vic-3757', 'Wollert-vic-3750', 'Woodstock-vic-3755', 'Yan-Yean-vic-3755', 'Ashburton-vic-3147', 'Balwyn-vic-3103', 'Balwyn-North-vic-3104', 'Camberwell-vic-3124', 'Canterbury-vic-3126', 'Deepdene-vic-3103', 'Glen-Iris-vic-3146', 'Hawthorn-vic-3122', 'Hawthorn-East-vic-3123', 'Kew-vic-3101', 'Kew-East-vic-3102', 'Mont-Albert-vic-3127', 'Mont-Albert-North-vic-3127', 'Surrey-Hills-vic-3127', 'Bayswater-vic-3153', 'Boronia-vic-3155', 'Ferntree-Gully-vic-3156', 'Knoxfield-vic-3180', 'Lysterfield-vic-3156', 'Rowville-vic-3178', 'Scoresby-vic-3179', 'The-Basin-vic-3154', 'Upper-Ferntree-Gully-vic-3156', 'Wantirna-vic-3152', 'Wantirna-South-vic-3152', 'Bulleen-vic-3105', 'Doncaster-vic-3108', 'Doncaster-East-vic-3109', 'Donvale-vic-3111', 'Park-Orchards-vic-3114', 'Templestowe-vic-3106', 'Templestowe-Lower-vic-3107', 'Warrandyte-vic-3113', 'Warrandyte-South-vic-3134', 'Wonga-Park-vic-3115', 'Nunawading-vic-3131', 'Ringwood-North-vic-3134', 'Bayswater-North-vic-3153', 'Croydon-vic-3136', 'Croydon-Hills-vic-3136', 'Croydon-North-vic-3136', 'Croydon-South-vic-3136', 'Heathmont-vic-3135', 'Kilsyth-South-vic-3137', 'Ringwood-vic-3134', 'Ringwood-East-vic-3135', 'Ringwood-North-vic-3134', 'Warranwood-vic-3134', 'Blackburn-vic-3130', 'Blackburn-North-vic-3130', 'Blackburn-South-vic-3130', 'Box-Hill-vic-3128', 'Box-Hill-North-vic-3129', 'Box-Hill-South-vic-3128', 'Burwood-vic-3125', 'Burwood-East-vic-3151', 'Forest-Hill-vic-3131', 'Mitcham-vic-3132', 'Mont-Albert-vic-3127', 'Nunawading-vic-3131', 'Surrey-Hills-vic-3127', 'Vermont-vic-3133', 'Vermont-South-vic-3133', 'Belgrave-vic-3160', 'Belgrave-Heights-vic-3160', 'Belgrave-South-vic-3160', 'Chirnside-Park-vic-3116', 'Kilsyth-vic-3137', 'Lilydale-vic-3140', 'Montrose-vic-3765', 'Mooroolbark-vic-3138', 'Mount-Evelyn-vic-3796', 'Selby-vic-3159', 'Tecoma-vic-3160', 'Upper-Ferntree-Gully-vic-3156', 'Upwey-vic-3158', 'Badger-Creek-vic-3777', 'Beenak-vic-3139', 'Big-Pats-Creek-vic-3799', 'Cambarville-vic-3779', 'Chum-Creek-vic-3777', 'Coldstream-vic-3770', 'Dixons-Creek-vic-3775', 'Don-Valley-vic-3139', 'Fernshaw-vic-3778', 'Ferny-Creek-vic-3786', 'Gilderoy-vic-3797', 'Gladysdale-vic-3797', 'Gruyere-vic-3770', 'Healesville-vic-3777', 'Hoddles-Creek-vic-3139', 'Kallista-vic-3791', 'Kalorama-vic-3766', 'Launching-Place-vic-3139', 'Lysterfield-vic-3156', 'Macclesfield-vic-3782', 'McMahons-Creek-vic-3799', 'Matlock-vic-3723', 'Menzies-Creek-vic-3159', 'Millgrove-vic-3799', 'Monbulk-vic-3793', 'Mount-Dandenong-vic-3767', 'Mount-Toolebewong-vic-3777', 'Narre-Warren-East-vic-3804', 'Olinda-vic-3788', 'Powelltown-vic-3797', 'Reefton-vic-3799', 'Sassafras-vic-3787', 'Seville-vic-3139', 'Seville-East-vic-3139', 'Sherbrooke-vic-3789', 'Silvan-vic-3795', 'Steels-Creek-vic-3775', 'Tarrawarra-vic-3775', 'The-Patch-vic-3792', 'Three-Bridges-vic-3797', 'Toorongo-vic-3833', 'Tremont-vic-3785', 'Wandin-East-vic-3139', 'Wandin-North-vic-3139', 'Warburton-vic-3799', 'Warburton-East-vic-3799', 'Wesburn-vic-3799', 'Woori-Yallock-vic-3139', 'Yarra-Glen-vic-3775', 'Yarra-Junction-vic-3797', 'Yellingbo-vic-3139', 'Yering-vic-3770', 'Beaumaris-vic-3193', 'Black-Rock-vic-3193', 'Brighton-vic-3186', 'Brighton-East-vic-3187', 'Cheltenham-vic-3192', 'Gardenvale-vic-3185', 'Hampton-vic-3188', 'Hampton-East-vic-3188', 'Highett-vic-3190', 'Sandringham-vic-3191', 'Moorabbin-vic-3189', 'Beaconsfield-vic-3807', 'Officer-vic-3809', 'Pakenham-vic-3810', 'Avonsleigh-vic-3782', 'Bayles-vic-3981', 'Beaconsfield-Upper-vic-3808', 'Bunyip-vic-3815', 'Bunyip-North-vic-3815', 'Caldermeade-vic-3984', 'Cardinia-vic-3978', 'Catani-vic-3981', 'Clematis-vic-3782', 'Cockatoo-vic-3781', 'Cora-Lynn-vic-3814', 'Dalmore-vic-3981', 'Dewhurst-vic-3809', 'Emerald-vic-3782', 'Garfield-vic-3814', 'Garfield-North-vic-3814', 'Gembrook-vic-3783', 'Guys-Hill-vic-3807', 'Heath-Hill-vic-3981', 'Iona-vic-3815', 'Koo-Wee-Rup-vic-3981', 'Koo-Wee-Rup-North-vic-3891', 'Lang-Lang-vic-3984', 'Lang-Lang-East-vic-3894', 'Longwarry-vic-3816', 'Maryknoll-vic-3812', 'Menzies-Creek-vic-3159', 'Modella-vic-3816', 'Monomeith-vic-3984', 'Mount-Burnett-vic-3781', 'Nangana-vic-3781', 'Nar-Nar-Goon-vic-3812', 'Nar-Nar-Goon-North-vic-3812', 'Nyora-vic-3987', 'Officer-South-vic-3809', 'Pakenham-South-vic-3810', 'Pakenham-Upper-vic-3810', 'Rythdale-vic-3810', 'Tonimbuk-vic-3815', 'Tooradin-North-vic-3977', 'Tynong-vic-3813', 'Tynong-North-vic-3813', 'Vervale-vic-3814', 'Yannathan-vic-3894', 'Berwick-vic-3806', 'Botanic-Ridge-vic-3977', 'Cranbourne-vic-3977', 'Cranbourne-East-vic-3977', 'Cranbourne-North-vic-3977', 'Cranbourne-West-vic-3977', 'Cranbourne-South-vic-3977', 'Doveton-vic-3177', 'Endeavour-Hills-vic-3802', 'Eumemmerring-vic-3177', 'Hallam-vic-3803', 'Hampton-Park-vic-3976', 'Junction-Village-vic-3977', 'Lynbrook-vic-3975', 'Narre-Warren-vic-3805', 'Narre-Warren-North-vic-3804', 'Narre-Warren-South-vic-3805', 'Blind-Bight-vic-3980', 'Cannons-Creek-vic-3977', 'Clyde-vic-3978', 'Clyde-North-vic-3978', 'Devon-Meadows-vic-3977', 'Harkaway-vic-3806', 'Lysterfield-South-vic-3156', 'Pearcedale-vic-3912', 'Tooradin-vic-3980', 'Warneet-vic-3980', 'Dandenong-vic-3175', 'Dandenong-North-vic-3175', 'Dandenong-South-vic-3175', 'Keysborough-vic-3173', 'Noble-Park-vic-3174', 'Noble-Park-North-vic-3174', 'Springvale-vic-3171', 'Springvale-South-vic-3172', 'Lyndhurst-vic-3975', 'Bangholme-vic-3175', 'Carrum-Downs-vic-3201', 'Frankston-vic-3199', 'Frankston-North-vic-3200', 'Frankston-South-vic-3199', 'Langwarrin-vic-3910', 'Sandhurst-vic-3977', 'Seaford-vic-3198', 'Skye-vic-3977', 'Langwarrin-South-vic-3911', 'Bentleigh-vic-3204', 'Bentleigh-East-vic-3165', 'Caulfield-vic-3162', 'Caulfield-East-vic-3145', 'Caulfield-North-vic-3161', 'Caulfield-South-vic-3162', 'Carnegie-vic-3163', 'Elsternwick-vic-3185', 'Gardenvale-vic-3185', 'Glen-Huntly-vic-3163', 'McKinnon-vic-3204', 'Murrumbeena-vic-3163', 'Ormond-vic-3204', 'St-Kilda-East-vic-3183', 'Aspendale-vic-3195', 'Aspendale-Gardens-vic-3195', 'Bonbeach-vic-3196', 'Braeside-vic-3195', 'Carrum-vic-3197', 'Chelsea-vic-3196', 'Chelsea-Heights-vic-3196', 'Cheltenham-vic-3192', 'Clarinda-vic-3169', 'Clayton-South-vic-3169', 'Dingley-Village-vic-3172', 'Edithvale-vic-3196', 'Heatherton-vic-3202', 'Highett-vic-3190', 'Mentone-vic-3194', 'Moorabbin-vic-3189', 'Moorabbin-Airport-vic-3194', 'Mordialloc-vic-3195', 'Parkdale-vic-3195', 'Patterson-Lakes-vic-3197', 'Waterways-vic-3195', 'Ashwood-vic-3147', 'Burwood-vic-3125', 'Chadstone-vic-3148', 'Clayton-vic-3168', 'Glen-Waverley-vic-3150', 'Hughesdale-vic-3166', 'Huntingdale-vic-3166', 'Monash-University-vic-3800', 'Mount-Waverley-vic-3149', 'Mulgrave-vic-3170', 'Notting-Hill-vic-3168', 'Oakleigh-vic-3166', 'Oakleigh-East-vic-3166', 'Oakleigh-South-vic-3167', 'Wheelers-Hill-vic-3150', 'Blairgowrie-vic-3942', 'Dromana-vic-3936', 'McCrae-vic-3938', 'Mornington-vic-3931', 'Mount-Eliza-vic-3930', 'Mount-Martha-vic-3934', 'Portsea-vic-3944', 'Rosebud-vic-3939', 'Rosebud-West-vic-3940', 'Rye-vic-3941', 'Safety-Beach-vic-3936', 'St-Andrews-Beach-vic-3941', 'Sorrento-vic-3943', 'Tootgarook-vic-3941', 'Bittern-vic-3918', 'Crib-Point-vic-3919', 'Hastings-vic-3915', 'Somerville-vic-3912', 'Tyabb-vic-3913', 'Arthurs-Seat-vic-3936', 'Balnarring-vic-3926', 'Balnarring-Beach-vic-3926', 'Baxter-vic-3911', 'Boneo-vic-3939', 'Cape-Schanck-vic-3939', 'Fingal-vic-3939', 'Flinders-vic-3929', 'HMAS-Cerberus-vic-3920', 'Main-Ridge-vic-3928', 'Merricks-vic-3916', 'Merricks-Beach-vic-3926', 'Merricks-North-vic-3926', 'Moorooduc-vic-3933', 'Point-Leo-vic-3916', 'Red-Hill-vic-3937', 'Red-Hill-South-vic-3937', 'Shoreham-vic-3916', 'Somers-vic-3927', 'Tuerong-vic-3915', 'Armadale-vic-3143', 'Glen-Iris-vic-3146', 'Kooyong-vic-3144', 'Malvern-vic-3144', 'Malvern-East-vic-3145', 'Prahran-vic-3181', 'South-Yarra-vic-3141', 'Toorak-vic-3142', 'Windsor-vic-3181', 'Albanvale-vic-3021', 'Albion-vic-3020', 'Ardeer-vic-3022', 'Brooklyn-vic-3012', 'Cairnlea-vic-3023', 'Calder-Park-vic-3037', 'Deer-Park-vic-3023', 'Delahey-vic-3037', 'Derrimut-vic-3030', 'Hillside-vic-3037', 'Kealba-vic-3021', 'Keilor-vic-3036', 'Keilor-Downs-vic-3038', 'Keilor-East-vic-3033', 'Keilor-Lodge-vic-3038', 'Keilor-North-vic-3036', 'Keilor-Park-vic-3042', 'Kings-Park-vic-3021', 'St-Albans-vic-3021', 'Sunshine-vic-3020', 'Sunshine-North-vic-3020', 'Sunshine-West-vic-3020', 'Sydenham-vic-3037', 'Taylors-Lakes-vic-3038', 'Braybrook-vic-3019', 'Footscray-vic-3011', 'Kingsville-vic-3012', 'Maidstone-vic-3012', 'Maribyrnong-vic-3032', 'Seddon-vic-3011', 'Tottenham-vic-3012', 'West-Footscray-vic-3012', 'Yarraville-vic-3013', 'Burnside-vic-3023', 'Burnside-Heights-vic-3023', 'Caroline-Springs-vic-3023', 'Hillside-vic-3037', 'Taylors-Hill-vic-3037', 'Brookfield-vic-3338', 'Kurunjang-vic-3337', 'Melton-vic-3337', 'Melton-South-vic-3338', 'Melton-West-vic-3337', 'Diggers-Rest-vic-3427', 'Exford-vic-3338', 'Eynesbury-vic-3338', 'Mount-Cottrell-vic-3024', 'Parwan-vic-3340', 'Plumpton-vic-3335', 'Ravenhall-vic-3023', 'Rockbank-vic-3335', 'Toolern-Vale-vic-3337', 'Truganina-vic-3029', 'Hoppers-Crossing-vic-3029', 'Laverton-vic-3028', 'Laverton-North-vic-3026', 'Manor-Lakes-vic-3024', 'Point-Cook-vic-3030', 'Tarneit-vic-3029', 'Truganina-vic-3029', 'Werribee-vic-3030', 'Werribee-South-vic-3030', 'Williams-Landing-vic-3027', 'Wyndham-Vale-vic-3024', 'Altona-vic-3018', 'Altona-Meadows-vic-3028', 'Altona-North-vic-3025', 'Brooklyn-vic-3012', 'Laverton-vic-3028', 'Newport-vic-3015', 'Spotswood-vic-3015', 'Seabrook-vic-3028', 'Seaholme-vic-3018', 'South-Kingsville-vic-3015', 'Williamstown-vic-3016', 'Williamstown-North-vic-3016', 'Cocoroc-vic-3030', 'Eynesbury-vic-3338', 'Little-River-vic-3211', 'Mambourin-vic-3024', 'Mount-Cottrell-vic-3024', 'Quandong-vic-3340']\n"
     ]
    },
    {
     "ename": "ConnectionError",
     "evalue": "('Connection aborted.', error(\"(50, 'ENETDOWN')\",))",
     "output_type": "error",
     "traceback": [
      "\u001b[0;31m---------------------------------------------------------------------------\u001b[0m",
      "\u001b[0;31mConnectionError\u001b[0m                           Traceback (most recent call last)",
      "\u001b[0;32m<ipython-input-228-3349e69d62a9>\u001b[0m in \u001b[0;36m<module>\u001b[0;34m()\u001b[0m\n\u001b[1;32m     65\u001b[0m                 \u001b[0;32mfor\u001b[0m \u001b[0mp\u001b[0m \u001b[0;32min\u001b[0m \u001b[0mrange\u001b[0m\u001b[0;34m(\u001b[0m\u001b[0mtotalpage\u001b[0m\u001b[0;34m)\u001b[0m\u001b[0;34m:\u001b[0m\u001b[0;34m\u001b[0m\u001b[0m\n\u001b[1;32m     66\u001b[0m                     \u001b[0murl_sub\u001b[0m \u001b[0;34m=\u001b[0m \u001b[0murl\u001b[0m \u001b[0;34m+\u001b[0m \u001b[0;34m'&page='\u001b[0m \u001b[0;34m+\u001b[0m \u001b[0mstr\u001b[0m\u001b[0;34m(\u001b[0m\u001b[0mp\u001b[0m\u001b[0;34m+\u001b[0m\u001b[0;36m1\u001b[0m\u001b[0;34m)\u001b[0m\u001b[0;34m\u001b[0m\u001b[0m\n\u001b[0;32m---> 67\u001b[0;31m                     \u001b[0monepage\u001b[0m\u001b[0;34m(\u001b[0m\u001b[0murl_sub\u001b[0m\u001b[0;34m)\u001b[0m\u001b[0;34m\u001b[0m\u001b[0m\n\u001b[0m\u001b[1;32m     68\u001b[0m                     \u001b[0mtime\u001b[0m\u001b[0;34m.\u001b[0m\u001b[0msleep\u001b[0m\u001b[0;34m(\u001b[0m\u001b[0;36m1\u001b[0m\u001b[0;34m)\u001b[0m\u001b[0;34m\u001b[0m\u001b[0m\n",
      "\u001b[0;32m<ipython-input-228-3349e69d62a9>\u001b[0m in \u001b[0;36monepage\u001b[0;34m(url)\u001b[0m\n\u001b[1;32m      1\u001b[0m \u001b[0;31m# loop through one page\u001b[0m\u001b[0;34m\u001b[0m\u001b[0;34m\u001b[0m\u001b[0m\n\u001b[1;32m      2\u001b[0m \u001b[0;32mdef\u001b[0m \u001b[0monepage\u001b[0m\u001b[0;34m(\u001b[0m\u001b[0murl\u001b[0m\u001b[0;34m)\u001b[0m\u001b[0;34m:\u001b[0m\u001b[0;34m\u001b[0m\u001b[0m\n\u001b[0;32m----> 3\u001b[0;31m     \u001b[0msource\u001b[0m \u001b[0;34m=\u001b[0m \u001b[0mrequests\u001b[0m\u001b[0;34m.\u001b[0m\u001b[0mget\u001b[0m\u001b[0;34m(\u001b[0m\u001b[0murl\u001b[0m\u001b[0;34m)\u001b[0m\u001b[0;34m\u001b[0m\u001b[0m\n\u001b[0m\u001b[1;32m      4\u001b[0m     \u001b[0mtext\u001b[0m \u001b[0;34m=\u001b[0m \u001b[0msource\u001b[0m\u001b[0;34m.\u001b[0m\u001b[0mtext\u001b[0m\u001b[0;34m.\u001b[0m\u001b[0mencode\u001b[0m\u001b[0;34m(\u001b[0m\u001b[0;34m'utf-8'\u001b[0m\u001b[0;34m)\u001b[0m\u001b[0;34m.\u001b[0m\u001b[0mdecode\u001b[0m\u001b[0;34m(\u001b[0m\u001b[0;34m'ascii'\u001b[0m\u001b[0;34m,\u001b[0m \u001b[0;34m'ignore'\u001b[0m\u001b[0;34m)\u001b[0m\u001b[0;34m\u001b[0m\u001b[0m\n\u001b[1;32m      5\u001b[0m     \u001b[0msoup\u001b[0m \u001b[0;34m=\u001b[0m \u001b[0mSoup\u001b[0m\u001b[0;34m(\u001b[0m\u001b[0mtext\u001b[0m\u001b[0;34m,\u001b[0m \u001b[0;34m'lxml'\u001b[0m\u001b[0;34m)\u001b[0m\u001b[0;34m\u001b[0m\u001b[0m\n",
      "\u001b[0;32m/Users/alex/anaconda/lib/python2.7/site-packages/requests/api.pyc\u001b[0m in \u001b[0;36mget\u001b[0;34m(url, params, **kwargs)\u001b[0m\n\u001b[1;32m     70\u001b[0m \u001b[0;34m\u001b[0m\u001b[0m\n\u001b[1;32m     71\u001b[0m     \u001b[0mkwargs\u001b[0m\u001b[0;34m.\u001b[0m\u001b[0msetdefault\u001b[0m\u001b[0;34m(\u001b[0m\u001b[0;34m'allow_redirects'\u001b[0m\u001b[0;34m,\u001b[0m \u001b[0mTrue\u001b[0m\u001b[0;34m)\u001b[0m\u001b[0;34m\u001b[0m\u001b[0m\n\u001b[0;32m---> 72\u001b[0;31m     \u001b[0;32mreturn\u001b[0m \u001b[0mrequest\u001b[0m\u001b[0;34m(\u001b[0m\u001b[0;34m'get'\u001b[0m\u001b[0;34m,\u001b[0m \u001b[0murl\u001b[0m\u001b[0;34m,\u001b[0m \u001b[0mparams\u001b[0m\u001b[0;34m=\u001b[0m\u001b[0mparams\u001b[0m\u001b[0;34m,\u001b[0m \u001b[0;34m**\u001b[0m\u001b[0mkwargs\u001b[0m\u001b[0;34m)\u001b[0m\u001b[0;34m\u001b[0m\u001b[0m\n\u001b[0m\u001b[1;32m     73\u001b[0m \u001b[0;34m\u001b[0m\u001b[0m\n\u001b[1;32m     74\u001b[0m \u001b[0;34m\u001b[0m\u001b[0m\n",
      "\u001b[0;32m/Users/alex/anaconda/lib/python2.7/site-packages/requests/api.pyc\u001b[0m in \u001b[0;36mrequest\u001b[0;34m(method, url, **kwargs)\u001b[0m\n\u001b[1;32m     56\u001b[0m     \u001b[0;31m# cases, and look like a memory leak in others.\u001b[0m\u001b[0;34m\u001b[0m\u001b[0;34m\u001b[0m\u001b[0m\n\u001b[1;32m     57\u001b[0m     \u001b[0;32mwith\u001b[0m \u001b[0msessions\u001b[0m\u001b[0;34m.\u001b[0m\u001b[0mSession\u001b[0m\u001b[0;34m(\u001b[0m\u001b[0;34m)\u001b[0m \u001b[0;32mas\u001b[0m \u001b[0msession\u001b[0m\u001b[0;34m:\u001b[0m\u001b[0;34m\u001b[0m\u001b[0m\n\u001b[0;32m---> 58\u001b[0;31m         \u001b[0;32mreturn\u001b[0m \u001b[0msession\u001b[0m\u001b[0;34m.\u001b[0m\u001b[0mrequest\u001b[0m\u001b[0;34m(\u001b[0m\u001b[0mmethod\u001b[0m\u001b[0;34m=\u001b[0m\u001b[0mmethod\u001b[0m\u001b[0;34m,\u001b[0m \u001b[0murl\u001b[0m\u001b[0;34m=\u001b[0m\u001b[0murl\u001b[0m\u001b[0;34m,\u001b[0m \u001b[0;34m**\u001b[0m\u001b[0mkwargs\u001b[0m\u001b[0;34m)\u001b[0m\u001b[0;34m\u001b[0m\u001b[0m\n\u001b[0m\u001b[1;32m     59\u001b[0m \u001b[0;34m\u001b[0m\u001b[0m\n\u001b[1;32m     60\u001b[0m \u001b[0;34m\u001b[0m\u001b[0m\n",
      "\u001b[0;32m/Users/alex/anaconda/lib/python2.7/site-packages/requests/sessions.pyc\u001b[0m in \u001b[0;36mrequest\u001b[0;34m(self, method, url, params, data, headers, cookies, files, auth, timeout, allow_redirects, proxies, hooks, stream, verify, cert, json)\u001b[0m\n\u001b[1;32m    506\u001b[0m         }\n\u001b[1;32m    507\u001b[0m         \u001b[0msend_kwargs\u001b[0m\u001b[0;34m.\u001b[0m\u001b[0mupdate\u001b[0m\u001b[0;34m(\u001b[0m\u001b[0msettings\u001b[0m\u001b[0;34m)\u001b[0m\u001b[0;34m\u001b[0m\u001b[0m\n\u001b[0;32m--> 508\u001b[0;31m         \u001b[0mresp\u001b[0m \u001b[0;34m=\u001b[0m \u001b[0mself\u001b[0m\u001b[0;34m.\u001b[0m\u001b[0msend\u001b[0m\u001b[0;34m(\u001b[0m\u001b[0mprep\u001b[0m\u001b[0;34m,\u001b[0m \u001b[0;34m**\u001b[0m\u001b[0msend_kwargs\u001b[0m\u001b[0;34m)\u001b[0m\u001b[0;34m\u001b[0m\u001b[0m\n\u001b[0m\u001b[1;32m    509\u001b[0m \u001b[0;34m\u001b[0m\u001b[0m\n\u001b[1;32m    510\u001b[0m         \u001b[0;32mreturn\u001b[0m \u001b[0mresp\u001b[0m\u001b[0;34m\u001b[0m\u001b[0m\n",
      "\u001b[0;32m/Users/alex/anaconda/lib/python2.7/site-packages/requests/sessions.pyc\u001b[0m in \u001b[0;36msend\u001b[0;34m(self, request, **kwargs)\u001b[0m\n\u001b[1;32m    638\u001b[0m \u001b[0;34m\u001b[0m\u001b[0m\n\u001b[1;32m    639\u001b[0m         \u001b[0;31m# Resolve redirects if allowed.\u001b[0m\u001b[0;34m\u001b[0m\u001b[0;34m\u001b[0m\u001b[0m\n\u001b[0;32m--> 640\u001b[0;31m         \u001b[0mhistory\u001b[0m \u001b[0;34m=\u001b[0m \u001b[0;34m[\u001b[0m\u001b[0mresp\u001b[0m \u001b[0;32mfor\u001b[0m \u001b[0mresp\u001b[0m \u001b[0;32min\u001b[0m \u001b[0mgen\u001b[0m\u001b[0;34m]\u001b[0m \u001b[0;32mif\u001b[0m \u001b[0mallow_redirects\u001b[0m \u001b[0;32melse\u001b[0m \u001b[0;34m[\u001b[0m\u001b[0;34m]\u001b[0m\u001b[0;34m\u001b[0m\u001b[0m\n\u001b[0m\u001b[1;32m    641\u001b[0m \u001b[0;34m\u001b[0m\u001b[0m\n\u001b[1;32m    642\u001b[0m         \u001b[0;31m# Shuffle things around if there's history.\u001b[0m\u001b[0;34m\u001b[0m\u001b[0;34m\u001b[0m\u001b[0m\n",
      "\u001b[0;32m/Users/alex/anaconda/lib/python2.7/site-packages/requests/sessions.pyc\u001b[0m in \u001b[0;36mresolve_redirects\u001b[0;34m(self, resp, req, stream, timeout, verify, cert, proxies, yield_requests, **adapter_kwargs)\u001b[0m\n\u001b[1;32m    216\u001b[0m                     \u001b[0mproxies\u001b[0m\u001b[0;34m=\u001b[0m\u001b[0mproxies\u001b[0m\u001b[0;34m,\u001b[0m\u001b[0;34m\u001b[0m\u001b[0m\n\u001b[1;32m    217\u001b[0m                     \u001b[0mallow_redirects\u001b[0m\u001b[0;34m=\u001b[0m\u001b[0mFalse\u001b[0m\u001b[0;34m,\u001b[0m\u001b[0;34m\u001b[0m\u001b[0m\n\u001b[0;32m--> 218\u001b[0;31m                     \u001b[0;34m**\u001b[0m\u001b[0madapter_kwargs\u001b[0m\u001b[0;34m\u001b[0m\u001b[0m\n\u001b[0m\u001b[1;32m    219\u001b[0m                 )\n\u001b[1;32m    220\u001b[0m \u001b[0;34m\u001b[0m\u001b[0m\n",
      "\u001b[0;32m/Users/alex/anaconda/lib/python2.7/site-packages/requests/sessions.pyc\u001b[0m in \u001b[0;36msend\u001b[0;34m(self, request, **kwargs)\u001b[0m\n\u001b[1;32m    616\u001b[0m \u001b[0;34m\u001b[0m\u001b[0m\n\u001b[1;32m    617\u001b[0m         \u001b[0;31m# Send the request\u001b[0m\u001b[0;34m\u001b[0m\u001b[0;34m\u001b[0m\u001b[0m\n\u001b[0;32m--> 618\u001b[0;31m         \u001b[0mr\u001b[0m \u001b[0;34m=\u001b[0m \u001b[0madapter\u001b[0m\u001b[0;34m.\u001b[0m\u001b[0msend\u001b[0m\u001b[0;34m(\u001b[0m\u001b[0mrequest\u001b[0m\u001b[0;34m,\u001b[0m \u001b[0;34m**\u001b[0m\u001b[0mkwargs\u001b[0m\u001b[0;34m)\u001b[0m\u001b[0;34m\u001b[0m\u001b[0m\n\u001b[0m\u001b[1;32m    619\u001b[0m \u001b[0;34m\u001b[0m\u001b[0m\n\u001b[1;32m    620\u001b[0m         \u001b[0;31m# Total elapsed time of the request (approximately)\u001b[0m\u001b[0;34m\u001b[0m\u001b[0;34m\u001b[0m\u001b[0m\n",
      "\u001b[0;32m/Users/alex/anaconda/lib/python2.7/site-packages/requests/adapters.pyc\u001b[0m in \u001b[0;36msend\u001b[0;34m(self, request, stream, timeout, verify, cert, proxies)\u001b[0m\n\u001b[1;32m    488\u001b[0m \u001b[0;34m\u001b[0m\u001b[0m\n\u001b[1;32m    489\u001b[0m         \u001b[0;32mexcept\u001b[0m \u001b[0;34m(\u001b[0m\u001b[0mProtocolError\u001b[0m\u001b[0;34m,\u001b[0m \u001b[0msocket\u001b[0m\u001b[0;34m.\u001b[0m\u001b[0merror\u001b[0m\u001b[0;34m)\u001b[0m \u001b[0;32mas\u001b[0m \u001b[0merr\u001b[0m\u001b[0;34m:\u001b[0m\u001b[0;34m\u001b[0m\u001b[0m\n\u001b[0;32m--> 490\u001b[0;31m             \u001b[0;32mraise\u001b[0m \u001b[0mConnectionError\u001b[0m\u001b[0;34m(\u001b[0m\u001b[0merr\u001b[0m\u001b[0;34m,\u001b[0m \u001b[0mrequest\u001b[0m\u001b[0;34m=\u001b[0m\u001b[0mrequest\u001b[0m\u001b[0;34m)\u001b[0m\u001b[0;34m\u001b[0m\u001b[0m\n\u001b[0m\u001b[1;32m    491\u001b[0m \u001b[0;34m\u001b[0m\u001b[0m\n\u001b[1;32m    492\u001b[0m         \u001b[0;32mexcept\u001b[0m \u001b[0mMaxRetryError\u001b[0m \u001b[0;32mas\u001b[0m \u001b[0me\u001b[0m\u001b[0;34m:\u001b[0m\u001b[0;34m\u001b[0m\u001b[0m\n",
      "\u001b[0;31mConnectionError\u001b[0m: ('Connection aborted.', error(\"(50, 'ENETDOWN')\",))"
     ]
    }
   ],
   "source": [
    "# loop through one page\n",
    "def onepage(url):\n",
    "    source = requests.get(url)\n",
    "    text = source.text.encode('utf-8').decode('ascii', 'ignore')\n",
    "    soup = Soup(text, 'lxml')\n",
    "\n",
    "    cardlike_div = soup.find('ul', class_='search-results__results')\n",
    "    if cardlike_div != None:\n",
    "        cards = cardlike_div.find_all('li', class_='search-results__listing')\n",
    "        for c in cards:\n",
    "            try:\n",
    "                link = c.find('a', class_='listing-result__address')\n",
    "                latitude = c(itemprop=\"latitude\")[0]['content']\n",
    "                longitude = c(itemprop=\"longitude\")[0]['content']\n",
    "                href = link.get('href')\n",
    "                result = scrape_one_page(href)\n",
    "                result['link'] = href\n",
    "                result['latitude'] = latitude\n",
    "                result['longitude'] = longitude\n",
    "                \n",
    "                # save to db\n",
    "                return result\n",
    "            except:\n",
    "                continue\n",
    "\n",
    "\n",
    "# main\n",
    "\n",
    "# suburbs\n",
    "suburbs = []\n",
    "with open('data/suburb_region.csv', 'r') as f:\n",
    "    reader = csv.reader(f)\n",
    "    reader.next()\n",
    "    for row in reader:\n",
    "        new = ''.join(row[:-1])\n",
    "        split = new.split()\n",
    "        suburbs.append('-'.join(split[:-1] + ['vic'] + split[-1:])) \n",
    "        \n",
    "# attribute setup\n",
    "bedrooms = ['1', '2', '3', '4', '5']\n",
    "bathrooms = ['1', '2', '3']\n",
    "carspace = ['0', '1', '2']\n",
    "\n",
    "# https://www.domain.com.au/sold-listings/?bedrooms=2&bathrooms=1&carspaces=1&suburb=Kensington-vic-3031\n",
    "base_url = 'https://www.domain.com.au/sold-listings/?'\n",
    "\n",
    "\n",
    "# loop through posrcodes\n",
    "for sub in suburbs:\n",
    "    for bed in bedrooms:\n",
    "        for car in carspace:\n",
    "            # find paginator\n",
    "            url = base_url + 'bedrooms=' + bed + '&carspaces=' + car + '&suburb=' + sub\n",
    "            response = requests.get(url)\n",
    "            soup = Soup(response.text, 'lxml')\n",
    "            paginator = []\n",
    "            for div in soup.find_all('a', class_='paginator__page-button'):\n",
    "                paginator.append(int(div.text))\n",
    "\n",
    "            # loop\n",
    "            if paginator != []:\n",
    "                totalpage = max(paginator)\n",
    "                for p in range(totalpage):\n",
    "                    url_sub = url + '&page=' + str(p+1)\n",
    "                    onepage(url_sub)\n",
    "                    time.sleep(1)"
   ]
  },
  {
   "cell_type": "code",
   "execution_count": 205,
   "metadata": {},
   "outputs": [],
   "source": []
  },
  {
   "cell_type": "code",
   "execution_count": null,
   "metadata": {},
   "outputs": [],
   "source": []
  },
  {
   "cell_type": "code",
   "execution_count": null,
   "metadata": {
    "collapsed": true
   },
   "outputs": [],
   "source": []
  }
 ],
 "metadata": {
  "anaconda-cloud": {},
  "kernelspec": {
   "display_name": "Python [conda root]",
   "language": "python",
   "name": "conda-root-py"
  },
  "language_info": {
   "codemirror_mode": {
    "name": "ipython",
    "version": 2
   },
   "file_extension": ".py",
   "mimetype": "text/x-python",
   "name": "python",
   "nbconvert_exporter": "python",
   "pygments_lexer": "ipython2",
   "version": "2.7.13"
  },
  "toc": {
   "nav_menu": {},
   "number_sections": true,
   "sideBar": true,
   "skip_h1_title": false,
   "toc_cell": false,
   "toc_position": {},
   "toc_section_display": "block",
   "toc_window_display": false
  }
 },
 "nbformat": 4,
 "nbformat_minor": 2
}
